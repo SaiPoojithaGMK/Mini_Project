{
 "cells": [
  {
   "cell_type": "code",
   "execution_count": 1,
   "id": "318843a2-522b-411a-81c2-1ebeeb4abb29",
   "metadata": {},
   "outputs": [],
   "source": [
    "import numpy as np\n",
    "import pandas as pd\n",
    "import matplotlib.pyplot as plt\n",
    "%matplotlib inline\n",
    "import seaborn as sns\n",
    "import warnings\n",
    "warnings.filterwarnings(\"ignore\")"
   ]
  },
  {
   "cell_type": "code",
   "execution_count": 2,
   "id": "9fd0e5a3-85f3-466f-aac3-3ff8e0301b67",
   "metadata": {},
   "outputs": [
    {
     "data": {
      "text/html": [
       "<div>\n",
       "<style scoped>\n",
       "    .dataframe tbody tr th:only-of-type {\n",
       "        vertical-align: middle;\n",
       "    }\n",
       "\n",
       "    .dataframe tbody tr th {\n",
       "        vertical-align: top;\n",
       "    }\n",
       "\n",
       "    .dataframe thead th {\n",
       "        text-align: right;\n",
       "    }\n",
       "</style>\n",
       "<table border=\"1\" class=\"dataframe\">\n",
       "  <thead>\n",
       "    <tr style=\"text-align: right;\">\n",
       "      <th></th>\n",
       "      <th>PID</th>\n",
       "      <th>AGE</th>\n",
       "      <th>SEX</th>\n",
       "      <th>DATE</th>\n",
       "      <th>PCM</th>\n",
       "      <th>DGS</th>\n",
       "      <th>EXM</th>\n",
       "      <th>STR</th>\n",
       "      <th>PRK</th>\n",
       "    </tr>\n",
       "  </thead>\n",
       "  <tbody>\n",
       "    <tr>\n",
       "      <th>0</th>\n",
       "      <td>15863</td>\n",
       "      <td>46</td>\n",
       "      <td>MALE'</td>\n",
       "      <td>01-JUL-10'</td>\n",
       "      <td>sudden loss of vision '</td>\n",
       "      <td>Retinal Detetchment '</td>\n",
       "      <td>B-Scan'</td>\n",
       "      <td>Repair  Surgery'</td>\n",
       "      <td>Treatment Going On'</td>\n",
       "    </tr>\n",
       "    <tr>\n",
       "      <th>1</th>\n",
       "      <td>15863</td>\n",
       "      <td>46</td>\n",
       "      <td>MALE'</td>\n",
       "      <td>15-AUG-10'</td>\n",
       "      <td>sudden loss of vision '</td>\n",
       "      <td>Retinal Detetchment '</td>\n",
       "      <td>B-Scan'</td>\n",
       "      <td>Repair  Surgery'</td>\n",
       "      <td>Satisfied '</td>\n",
       "    </tr>\n",
       "    <tr>\n",
       "      <th>2</th>\n",
       "      <td>15864</td>\n",
       "      <td>42</td>\n",
       "      <td>FEMALE'</td>\n",
       "      <td>01-JUL-10'</td>\n",
       "      <td>sudden loss of vision '</td>\n",
       "      <td>Vitrous Haemoriage'</td>\n",
       "      <td>B-Scan'</td>\n",
       "      <td>Vitractomy Surgery'</td>\n",
       "      <td>Treatment Going On'</td>\n",
       "    </tr>\n",
       "    <tr>\n",
       "      <th>3</th>\n",
       "      <td>15864</td>\n",
       "      <td>42</td>\n",
       "      <td>FEMALE'</td>\n",
       "      <td>10-AUG-10'</td>\n",
       "      <td>sudden loss of vision '</td>\n",
       "      <td>Vitrous Haemoriage'</td>\n",
       "      <td>B-Scan'</td>\n",
       "      <td>Vitractomy Surgery'</td>\n",
       "      <td>Satisfied '</td>\n",
       "    </tr>\n",
       "    <tr>\n",
       "      <th>4</th>\n",
       "      <td>15865</td>\n",
       "      <td>9</td>\n",
       "      <td>MALE'</td>\n",
       "      <td>01-JUL-10'</td>\n",
       "      <td>sudden loss of vision '</td>\n",
       "      <td>Retinal Detetchment '</td>\n",
       "      <td>B-Scan'</td>\n",
       "      <td>Repair  Surgery'</td>\n",
       "      <td>Treatment Going On'</td>\n",
       "    </tr>\n",
       "  </tbody>\n",
       "</table>\n",
       "</div>"
      ],
      "text/plain": [
       "     PID  AGE      SEX        DATE                      PCM  \\\n",
       "0  15863   46    MALE'  01-JUL-10'  sudden loss of vision '   \n",
       "1  15863   46    MALE'  15-AUG-10'  sudden loss of vision '   \n",
       "2  15864   42  FEMALE'  01-JUL-10'  sudden loss of vision '   \n",
       "3  15864   42  FEMALE'  10-AUG-10'  sudden loss of vision '   \n",
       "4  15865    9    MALE'  01-JUL-10'  sudden loss of vision '   \n",
       "\n",
       "                     DGS      EXM                  STR                  PRK  \n",
       "0  Retinal Detetchment '  B-Scan'     Repair  Surgery'  Treatment Going On'  \n",
       "1  Retinal Detetchment '  B-Scan'     Repair  Surgery'          Satisfied '  \n",
       "2    Vitrous Haemoriage'  B-Scan'  Vitractomy Surgery'  Treatment Going On'  \n",
       "3    Vitrous Haemoriage'  B-Scan'  Vitractomy Surgery'          Satisfied '  \n",
       "4  Retinal Detetchment '  B-Scan'     Repair  Surgery'  Treatment Going On'  "
      ]
     },
     "execution_count": 2,
     "metadata": {},
     "output_type": "execute_result"
    }
   ],
   "source": [
    "df=pd.read_csv('Eye_Dataset.csv',on_bad_lines='skip')\n",
    "df.head()"
   ]
  },
  {
   "cell_type": "code",
   "execution_count": 3,
   "id": "94347295-450e-4e22-a71b-a8582b6b387f",
   "metadata": {},
   "outputs": [],
   "source": [
    "df['LB']=df['STR']"
   ]
  },
  {
   "cell_type": "code",
   "execution_count": 4,
   "id": "070d26a4-0197-4516-b28e-ebca7f5d0ca5",
   "metadata": {},
   "outputs": [
    {
     "data": {
      "text/html": [
       "<div>\n",
       "<style scoped>\n",
       "    .dataframe tbody tr th:only-of-type {\n",
       "        vertical-align: middle;\n",
       "    }\n",
       "\n",
       "    .dataframe tbody tr th {\n",
       "        vertical-align: top;\n",
       "    }\n",
       "\n",
       "    .dataframe thead th {\n",
       "        text-align: right;\n",
       "    }\n",
       "</style>\n",
       "<table border=\"1\" class=\"dataframe\">\n",
       "  <thead>\n",
       "    <tr style=\"text-align: right;\">\n",
       "      <th></th>\n",
       "      <th>PID</th>\n",
       "      <th>AGE</th>\n",
       "      <th>SEX</th>\n",
       "      <th>DATE</th>\n",
       "      <th>PCM</th>\n",
       "      <th>DGS</th>\n",
       "      <th>EXM</th>\n",
       "      <th>STR</th>\n",
       "      <th>PRK</th>\n",
       "      <th>LB</th>\n",
       "    </tr>\n",
       "  </thead>\n",
       "  <tbody>\n",
       "    <tr>\n",
       "      <th>0</th>\n",
       "      <td>15863</td>\n",
       "      <td>46</td>\n",
       "      <td>MALE'</td>\n",
       "      <td>01-JUL-10'</td>\n",
       "      <td>sudden loss of vision '</td>\n",
       "      <td>Retinal Detetchment '</td>\n",
       "      <td>B-Scan'</td>\n",
       "      <td>Repair  Surgery'</td>\n",
       "      <td>Treatment Going On'</td>\n",
       "      <td>Repair  Surgery'</td>\n",
       "    </tr>\n",
       "    <tr>\n",
       "      <th>1</th>\n",
       "      <td>15863</td>\n",
       "      <td>46</td>\n",
       "      <td>MALE'</td>\n",
       "      <td>15-AUG-10'</td>\n",
       "      <td>sudden loss of vision '</td>\n",
       "      <td>Retinal Detetchment '</td>\n",
       "      <td>B-Scan'</td>\n",
       "      <td>Repair  Surgery'</td>\n",
       "      <td>Satisfied '</td>\n",
       "      <td>Repair  Surgery'</td>\n",
       "    </tr>\n",
       "    <tr>\n",
       "      <th>2</th>\n",
       "      <td>15864</td>\n",
       "      <td>42</td>\n",
       "      <td>FEMALE'</td>\n",
       "      <td>01-JUL-10'</td>\n",
       "      <td>sudden loss of vision '</td>\n",
       "      <td>Vitrous Haemoriage'</td>\n",
       "      <td>B-Scan'</td>\n",
       "      <td>Vitractomy Surgery'</td>\n",
       "      <td>Treatment Going On'</td>\n",
       "      <td>Vitractomy Surgery'</td>\n",
       "    </tr>\n",
       "    <tr>\n",
       "      <th>3</th>\n",
       "      <td>15864</td>\n",
       "      <td>42</td>\n",
       "      <td>FEMALE'</td>\n",
       "      <td>10-AUG-10'</td>\n",
       "      <td>sudden loss of vision '</td>\n",
       "      <td>Vitrous Haemoriage'</td>\n",
       "      <td>B-Scan'</td>\n",
       "      <td>Vitractomy Surgery'</td>\n",
       "      <td>Satisfied '</td>\n",
       "      <td>Vitractomy Surgery'</td>\n",
       "    </tr>\n",
       "    <tr>\n",
       "      <th>4</th>\n",
       "      <td>15865</td>\n",
       "      <td>9</td>\n",
       "      <td>MALE'</td>\n",
       "      <td>01-JUL-10'</td>\n",
       "      <td>sudden loss of vision '</td>\n",
       "      <td>Retinal Detetchment '</td>\n",
       "      <td>B-Scan'</td>\n",
       "      <td>Repair  Surgery'</td>\n",
       "      <td>Treatment Going On'</td>\n",
       "      <td>Repair  Surgery'</td>\n",
       "    </tr>\n",
       "  </tbody>\n",
       "</table>\n",
       "</div>"
      ],
      "text/plain": [
       "     PID  AGE      SEX        DATE                      PCM  \\\n",
       "0  15863   46    MALE'  01-JUL-10'  sudden loss of vision '   \n",
       "1  15863   46    MALE'  15-AUG-10'  sudden loss of vision '   \n",
       "2  15864   42  FEMALE'  01-JUL-10'  sudden loss of vision '   \n",
       "3  15864   42  FEMALE'  10-AUG-10'  sudden loss of vision '   \n",
       "4  15865    9    MALE'  01-JUL-10'  sudden loss of vision '   \n",
       "\n",
       "                     DGS      EXM                  STR                  PRK  \\\n",
       "0  Retinal Detetchment '  B-Scan'     Repair  Surgery'  Treatment Going On'   \n",
       "1  Retinal Detetchment '  B-Scan'     Repair  Surgery'          Satisfied '   \n",
       "2    Vitrous Haemoriage'  B-Scan'  Vitractomy Surgery'  Treatment Going On'   \n",
       "3    Vitrous Haemoriage'  B-Scan'  Vitractomy Surgery'          Satisfied '   \n",
       "4  Retinal Detetchment '  B-Scan'     Repair  Surgery'  Treatment Going On'   \n",
       "\n",
       "                    LB  \n",
       "0     Repair  Surgery'  \n",
       "1     Repair  Surgery'  \n",
       "2  Vitractomy Surgery'  \n",
       "3  Vitractomy Surgery'  \n",
       "4     Repair  Surgery'  "
      ]
     },
     "execution_count": 4,
     "metadata": {},
     "output_type": "execute_result"
    }
   ],
   "source": [
    "df.head()"
   ]
  },
  {
   "cell_type": "code",
   "execution_count": 5,
   "id": "9af8dc17-f2f4-48a7-8130-092b5b83e4d1",
   "metadata": {},
   "outputs": [
    {
     "data": {
      "text/plain": [
       "(835, 10)"
      ]
     },
     "execution_count": 5,
     "metadata": {},
     "output_type": "execute_result"
    }
   ],
   "source": [
    "df.shape"
   ]
  },
  {
   "cell_type": "code",
   "execution_count": 6,
   "id": "0d9584f3-9ceb-4388-a20f-c63a280551de",
   "metadata": {},
   "outputs": [
    {
     "data": {
      "text/plain": [
       "Vitractomy Surgery'                           254\n",
       "Repair  Surgery'                              173\n",
       "Yag Laser Peripherial Iridotomy'              145\n",
       "Navanac Eye Drop'                              87\n",
       "Yag LaserCapsulotomy'                          47\n",
       "Anti-Glaucoma Medication'                      45\n",
       "Neurological Surgery'                          18\n",
       "Tab: AZM,Navanac Eye Drop'                     15\n",
       "Tab: Vitamin A'                                15\n",
       "Corneal Transplantation '                       9\n",
       "Inj: Avastin,Navanac Eye Drop'                  8\n",
       "Inj: Avastin,Argon Laser '                      3\n",
       "Inj: Avastin ,'Navanac Eye Drop'                3\n",
       "Inj: Avastin ,Navanac Eye Drop'                 2\n",
       "Laser Peripherial Iridotomy'                    2\n",
       "Argon Laser '                                   1\n",
       "Trebyculectomy'                                 1\n",
       "Inj: Avastin,Navanac Eye Drop' '                1\n",
       "Inj: Avastin,Argon Laser'                       1\n",
       "Inj: Avastin ,'Tab: AZM,Navanac Eye Drop''      1\n",
       "Inj: Avastin ,'Tab: AZM,Navanac Eye Drop',      1\n",
       "Trebyculectomy,Anti-Glaucoma Medication'        1\n",
       "Inj: Avastin '                                  1\n",
       "Neurological Disorder'                          1\n",
       "Name: STR, dtype: int64"
      ]
     },
     "execution_count": 6,
     "metadata": {},
     "output_type": "execute_result"
    }
   ],
   "source": [
    "df['STR'].value_counts()"
   ]
  },
  {
   "cell_type": "code",
   "execution_count": 7,
   "id": "7cb26f86-1d19-443e-831c-86d4c67ac8f3",
   "metadata": {},
   "outputs": [],
   "source": [
    "df['STR']=df['STR'].replace(\"Inj: Avastin ,'Tab: AZM,Navanac Eye Drop''\",\"Inj: Avastin ,'Tab: AZM,Navanac Eye Drop'\")"
   ]
  },
  {
   "cell_type": "code",
   "execution_count": 8,
   "id": "8425ceae-91a5-42a0-acea-b8f6278bbef1",
   "metadata": {},
   "outputs": [],
   "source": [
    "df['STR']=df['STR'].replace([\"Inj: Avastin ,'Navanac Eye Drop'\",\"Inj: Avastin ,Navanac Eye Drop'\",\"Inj: Avastin,Navanac Eye Drop' '\"],\"Inj: Avastin,Navanac Eye Drop'\")"
   ]
  },
  {
   "cell_type": "code",
   "execution_count": 9,
   "id": "7f62de86-84f0-4f1c-9af0-172fcc8a92aa",
   "metadata": {},
   "outputs": [],
   "source": [
    "df['STR']=df['STR'].replace(\"Inj: Avastin ,'Tab: AZM,Navanac Eye Drop',\",\"Inj: Avastin ,'Tab: AZM,Navanac Eye Drop'\")"
   ]
  },
  {
   "cell_type": "code",
   "execution_count": 10,
   "id": "ffcdd18d-d438-4169-9e55-c33bf951834c",
   "metadata": {},
   "outputs": [
    {
     "data": {
      "text/plain": [
       "Vitractomy Surgery'                          254\n",
       "Repair  Surgery'                             173\n",
       "Yag Laser Peripherial Iridotomy'             145\n",
       "Navanac Eye Drop'                             87\n",
       "Yag LaserCapsulotomy'                         47\n",
       "Anti-Glaucoma Medication'                     45\n",
       "Neurological Surgery'                         18\n",
       "Tab: AZM,Navanac Eye Drop'                    15\n",
       "Tab: Vitamin A'                               15\n",
       "Inj: Avastin,Navanac Eye Drop'                14\n",
       "Corneal Transplantation '                      9\n",
       "Inj: Avastin,Argon Laser '                     3\n",
       "Inj: Avastin ,'Tab: AZM,Navanac Eye Drop'      2\n",
       "Laser Peripherial Iridotomy'                   2\n",
       "Trebyculectomy'                                1\n",
       "Argon Laser '                                  1\n",
       "Inj: Avastin,Argon Laser'                      1\n",
       "Trebyculectomy,Anti-Glaucoma Medication'       1\n",
       "Inj: Avastin '                                 1\n",
       "Neurological Disorder'                         1\n",
       "Name: STR, dtype: int64"
      ]
     },
     "execution_count": 10,
     "metadata": {},
     "output_type": "execute_result"
    }
   ],
   "source": [
    "df['STR'].value_counts()"
   ]
  },
  {
   "cell_type": "code",
   "execution_count": 11,
   "id": "f166f213-0c06-4ddd-b710-8b00ea8dee21",
   "metadata": {},
   "outputs": [],
   "source": [
    "df['LB'].replace([\"Navanac Eye Drop'\",\"Anti-Glaucoma Medication'\",\"Tab: AZM,Navanac Eye Drop'\",\"Tab: Vitamin A'\",\"Corneal Transplantation '\"],1,inplace=True)"
   ]
  },
  {
   "cell_type": "code",
   "execution_count": 12,
   "id": "47395ac3-3c73-454e-808d-d5f4288f4e4f",
   "metadata": {},
   "outputs": [],
   "source": [
    "df['LB'].replace([\"Vitractomy Surgery'\",\"Repair  Surgery'\",\"Yag Laser Peripherial Iridotomy'\",\"Yag LaserCapsulotomy'\",\"Anti-Glaucoma Medication'\",\"Inj: Avastin,Navanac Eye Drop'\",\"Neurological Surgery'\",\"Inj: Avastin,Argon Laser'\",\"Inj: Avastin ,'Navanac Eye Drop'\",\"Inj: Avastin ,Navanac Eye Drop'\",\"Laser Peripherial Iridotomy'\",\"Argon Laser '\", \"Trebyculectomy'\",\"Inj: Avastin,Navanac Eye Drop' '\",\"Inj: Avastin,Argon Laser '\",\"Inj: Avastin ,'Tab: AZM,Navanac Eye Drop''\",\"Inj: Avastin ,'Tab: AZM,Navanac Eye Drop',\",\"Trebyculectomy,Anti-Glaucoma Medication'\",\"Inj: Avastin '\",\"Inj: Avastin '\",\"Neurological Disorder'\"],0,inplace=True)"
   ]
  },
  {
   "cell_type": "code",
   "execution_count": 13,
   "id": "52ce767a-dfcb-4ae1-822e-2c75ca7e6131",
   "metadata": {},
   "outputs": [],
   "source": [
    "df.to_csv('Updated_Eye_dataset2.csv')"
   ]
  },
  {
   "cell_type": "code",
   "execution_count": 14,
   "id": "e48300f1-9e19-4e28-85cf-e5117326c223",
   "metadata": {},
   "outputs": [
    {
     "data": {
      "text/html": [
       "<div>\n",
       "<style scoped>\n",
       "    .dataframe tbody tr th:only-of-type {\n",
       "        vertical-align: middle;\n",
       "    }\n",
       "\n",
       "    .dataframe tbody tr th {\n",
       "        vertical-align: top;\n",
       "    }\n",
       "\n",
       "    .dataframe thead th {\n",
       "        text-align: right;\n",
       "    }\n",
       "</style>\n",
       "<table border=\"1\" class=\"dataframe\">\n",
       "  <thead>\n",
       "    <tr style=\"text-align: right;\">\n",
       "      <th></th>\n",
       "      <th>PID</th>\n",
       "      <th>AGE</th>\n",
       "      <th>SEX</th>\n",
       "      <th>DATE</th>\n",
       "      <th>PCM</th>\n",
       "      <th>DGS</th>\n",
       "      <th>EXM</th>\n",
       "      <th>STR</th>\n",
       "      <th>PRK</th>\n",
       "      <th>LB</th>\n",
       "    </tr>\n",
       "  </thead>\n",
       "  <tbody>\n",
       "    <tr>\n",
       "      <th>0</th>\n",
       "      <td>15863</td>\n",
       "      <td>46</td>\n",
       "      <td>MALE'</td>\n",
       "      <td>01-JUL-10'</td>\n",
       "      <td>sudden loss of vision '</td>\n",
       "      <td>Retinal Detetchment '</td>\n",
       "      <td>B-Scan'</td>\n",
       "      <td>Repair  Surgery'</td>\n",
       "      <td>Treatment Going On'</td>\n",
       "      <td>0</td>\n",
       "    </tr>\n",
       "    <tr>\n",
       "      <th>1</th>\n",
       "      <td>15863</td>\n",
       "      <td>46</td>\n",
       "      <td>MALE'</td>\n",
       "      <td>15-AUG-10'</td>\n",
       "      <td>sudden loss of vision '</td>\n",
       "      <td>Retinal Detetchment '</td>\n",
       "      <td>B-Scan'</td>\n",
       "      <td>Repair  Surgery'</td>\n",
       "      <td>Satisfied '</td>\n",
       "      <td>0</td>\n",
       "    </tr>\n",
       "    <tr>\n",
       "      <th>2</th>\n",
       "      <td>15864</td>\n",
       "      <td>42</td>\n",
       "      <td>FEMALE'</td>\n",
       "      <td>01-JUL-10'</td>\n",
       "      <td>sudden loss of vision '</td>\n",
       "      <td>Vitrous Haemoriage'</td>\n",
       "      <td>B-Scan'</td>\n",
       "      <td>Vitractomy Surgery'</td>\n",
       "      <td>Treatment Going On'</td>\n",
       "      <td>0</td>\n",
       "    </tr>\n",
       "    <tr>\n",
       "      <th>3</th>\n",
       "      <td>15864</td>\n",
       "      <td>42</td>\n",
       "      <td>FEMALE'</td>\n",
       "      <td>10-AUG-10'</td>\n",
       "      <td>sudden loss of vision '</td>\n",
       "      <td>Vitrous Haemoriage'</td>\n",
       "      <td>B-Scan'</td>\n",
       "      <td>Vitractomy Surgery'</td>\n",
       "      <td>Satisfied '</td>\n",
       "      <td>0</td>\n",
       "    </tr>\n",
       "    <tr>\n",
       "      <th>4</th>\n",
       "      <td>15865</td>\n",
       "      <td>9</td>\n",
       "      <td>MALE'</td>\n",
       "      <td>01-JUL-10'</td>\n",
       "      <td>sudden loss of vision '</td>\n",
       "      <td>Retinal Detetchment '</td>\n",
       "      <td>B-Scan'</td>\n",
       "      <td>Repair  Surgery'</td>\n",
       "      <td>Treatment Going On'</td>\n",
       "      <td>0</td>\n",
       "    </tr>\n",
       "  </tbody>\n",
       "</table>\n",
       "</div>"
      ],
      "text/plain": [
       "     PID  AGE      SEX        DATE                      PCM  \\\n",
       "0  15863   46    MALE'  01-JUL-10'  sudden loss of vision '   \n",
       "1  15863   46    MALE'  15-AUG-10'  sudden loss of vision '   \n",
       "2  15864   42  FEMALE'  01-JUL-10'  sudden loss of vision '   \n",
       "3  15864   42  FEMALE'  10-AUG-10'  sudden loss of vision '   \n",
       "4  15865    9    MALE'  01-JUL-10'  sudden loss of vision '   \n",
       "\n",
       "                     DGS      EXM                  STR                  PRK  \\\n",
       "0  Retinal Detetchment '  B-Scan'     Repair  Surgery'  Treatment Going On'   \n",
       "1  Retinal Detetchment '  B-Scan'     Repair  Surgery'          Satisfied '   \n",
       "2    Vitrous Haemoriage'  B-Scan'  Vitractomy Surgery'  Treatment Going On'   \n",
       "3    Vitrous Haemoriage'  B-Scan'  Vitractomy Surgery'          Satisfied '   \n",
       "4  Retinal Detetchment '  B-Scan'     Repair  Surgery'  Treatment Going On'   \n",
       "\n",
       "   LB  \n",
       "0   0  \n",
       "1   0  \n",
       "2   0  \n",
       "3   0  \n",
       "4   0  "
      ]
     },
     "execution_count": 14,
     "metadata": {},
     "output_type": "execute_result"
    }
   ],
   "source": [
    "df.head(5)"
   ]
  },
  {
   "cell_type": "markdown",
   "id": "27a5e8a7",
   "metadata": {},
   "source": [
    "# DATA PREPROCESSING"
   ]
  },
  {
   "cell_type": "code",
   "execution_count": 15,
   "id": "0cdea230-42fd-4bd4-9a86-ddcc1e0aa669",
   "metadata": {},
   "outputs": [],
   "source": [
    "df=df.replace('?',np.NaN)"
   ]
  },
  {
   "cell_type": "code",
   "execution_count": 16,
   "id": "a41e6884-42a5-4532-ac84-f8be24752778",
   "metadata": {},
   "outputs": [
    {
     "data": {
      "text/plain": [
       "PID     0\n",
       "AGE     0\n",
       "SEX     0\n",
       "DATE    0\n",
       "PCM     0\n",
       "DGS     0\n",
       "EXM     0\n",
       "STR     0\n",
       "PRK     1\n",
       "LB      0\n",
       "dtype: int64"
      ]
     },
     "execution_count": 16,
     "metadata": {},
     "output_type": "execute_result"
    }
   ],
   "source": [
    "pd.isna(df).sum()"
   ]
  },
  {
   "cell_type": "code",
   "execution_count": 17,
   "id": "20c4ec73-32db-4cf8-bcd1-9b7844544491",
   "metadata": {},
   "outputs": [],
   "source": [
    "for column in df.columns:\n",
    "    if df[column].dtype=='object':\n",
    "        df[column].fillna(df[column].mode()[0],inplace=True)"
   ]
  },
  {
   "cell_type": "code",
   "execution_count": 18,
   "id": "d03533ef-7638-45eb-a1c8-8b91041b247d",
   "metadata": {},
   "outputs": [
    {
     "data": {
      "text/plain": [
       "PID     0\n",
       "AGE     0\n",
       "SEX     0\n",
       "DATE    0\n",
       "PCM     0\n",
       "DGS     0\n",
       "EXM     0\n",
       "STR     0\n",
       "PRK     0\n",
       "LB      0\n",
       "dtype: int64"
      ]
     },
     "execution_count": 18,
     "metadata": {},
     "output_type": "execute_result"
    }
   ],
   "source": [
    "pd.isna(df).sum()"
   ]
  },
  {
   "cell_type": "markdown",
   "id": "99e06f08",
   "metadata": {},
   "source": [
    "# DATA PREPARATION"
   ]
  },
  {
   "cell_type": "code",
   "execution_count": 19,
   "id": "e0b737f8-bd29-4431-9150-da28eb32ffc9",
   "metadata": {},
   "outputs": [
    {
     "data": {
      "text/plain": [
       "Vitractomy Surgery'                          254\n",
       "Repair  Surgery'                             173\n",
       "Yag Laser Peripherial Iridotomy'             145\n",
       "Navanac Eye Drop'                             87\n",
       "Yag LaserCapsulotomy'                         47\n",
       "Anti-Glaucoma Medication'                     45\n",
       "Neurological Surgery'                         18\n",
       "Tab: AZM,Navanac Eye Drop'                    15\n",
       "Tab: Vitamin A'                               15\n",
       "Inj: Avastin,Navanac Eye Drop'                14\n",
       "Corneal Transplantation '                      9\n",
       "Inj: Avastin,Argon Laser '                     3\n",
       "Inj: Avastin ,'Tab: AZM,Navanac Eye Drop'      2\n",
       "Laser Peripherial Iridotomy'                   2\n",
       "Trebyculectomy'                                1\n",
       "Argon Laser '                                  1\n",
       "Inj: Avastin,Argon Laser'                      1\n",
       "Trebyculectomy,Anti-Glaucoma Medication'       1\n",
       "Inj: Avastin '                                 1\n",
       "Neurological Disorder'                         1\n",
       "Name: STR, dtype: int64"
      ]
     },
     "execution_count": 19,
     "metadata": {},
     "output_type": "execute_result"
    }
   ],
   "source": [
    "df['STR'].value_counts()"
   ]
  },
  {
   "cell_type": "code",
   "execution_count": 20,
   "id": "28ce4578-39a2-4a97-a921-a53ac15897bf",
   "metadata": {},
   "outputs": [
    {
     "data": {
      "text/plain": [
       "MALE'      493\n",
       "FEMALE'    342\n",
       "Name: SEX, dtype: int64"
      ]
     },
     "execution_count": 20,
     "metadata": {},
     "output_type": "execute_result"
    }
   ],
   "source": [
    "df['SEX'].value_counts()"
   ]
  },
  {
   "cell_type": "code",
   "execution_count": 21,
   "id": "7d0caa63-1a5e-482a-a5dd-4871d5c9490e",
   "metadata": {},
   "outputs": [
    {
     "data": {
      "text/plain": [
       "Text(0, 0.5, 'Count')"
      ]
     },
     "execution_count": 21,
     "metadata": {},
     "output_type": "execute_result"
    },
    {
     "data": {
      "image/png": "[encoded data removed]",
      "text/plain": [
       "<Figure size 640x480 with 1 Axes>"
      ]
     },
     "metadata": {},
     "output_type": "display_data"
    }
   ],
   "source": [
    "sns.countplot(x=df['SEX'])\n",
    "plt.title('Count plot of SEX')\n",
    "plt.xlabel('SEX')\n",
    "plt.ylabel('Count')"
   ]
  },
  {
   "cell_type": "code",
   "execution_count": 22,
   "id": "3c1a7eeb-7deb-4d92-80ea-be6fb0f0f489",
   "metadata": {},
   "outputs": [],
   "source": [
    "from sklearn.preprocessing import LabelEncoder\n",
    "le=LabelEncoder()\n",
    "df1=le.fit_transform(df['SEX'])\n",
    "df['SEX']=df1"
   ]
  },
  {
   "cell_type": "code",
   "execution_count": 23,
   "id": "f63401cd-163a-493e-8846-1281436343b5",
   "metadata": {},
   "outputs": [
    {
     "data": {
      "text/plain": [
       "27-SEP-10'    23\n",
       "20-JUL-10'    22\n",
       "06-JUL-10'    19\n",
       "30-SEP-10'    19\n",
       "15-JUL-10'    18\n",
       "              ..\n",
       "27-JUL-10      1\n",
       "07-DEC-10'     1\n",
       "09-SEP-10'     1\n",
       "09-SEP-10      1\n",
       "2-AUG-10'      1\n",
       "Name: DATE, Length: 146, dtype: int64"
      ]
     },
     "execution_count": 23,
     "metadata": {},
     "output_type": "execute_result"
    }
   ],
   "source": [
    "df['DATE'].value_counts()"
   ]
  },
  {
   "cell_type": "code",
   "execution_count": 24,
   "id": "056b5ce2-02c4-4f1f-9b3b-785e659ae725",
   "metadata": {},
   "outputs": [],
   "source": [
    "df1=le.fit_transform(df['DATE'])\n",
    "df['DATE']=df1"
   ]
  },
  {
   "cell_type": "code",
   "execution_count": 25,
   "id": "e120d5ba-081b-4e08-a1ce-ac1c46773168",
   "metadata": {},
   "outputs": [
    {
     "data": {
      "text/plain": [
       "Blured Vision '                         396\n",
       "Raised Intra Occular Pressure '         149\n",
       "sudden loss of vision '                 135\n",
       "Decrease Vision '                        80\n",
       "Loss Of Peripherial Field of Vision'     66\n",
       "Decrease Vision in Both Eye'              9\n",
       "Name: PCM, dtype: int64"
      ]
     },
     "execution_count": 25,
     "metadata": {},
     "output_type": "execute_result"
    }
   ],
   "source": [
    "df['PCM'].value_counts()"
   ]
  },
  {
   "cell_type": "code",
   "execution_count": 26,
   "id": "cbda0fd4-a932-4795-a3b2-5b7b5ac37499",
   "metadata": {},
   "outputs": [],
   "source": [
    "df1=le.fit_transform(df['PCM'])\n",
    "df['PCM']=df1"
   ]
  },
  {
   "cell_type": "code",
   "execution_count": 27,
   "id": "c34fde73-1253-483c-8f60-8e4034eae69c",
   "metadata": {},
   "outputs": [
    {
     "data": {
      "text/plain": [
       "Vitrous Haemoriage'                  246\n",
       "Retinal Detetchment '                180\n",
       "Angle Occular Glacoma'               148\n",
       "Postirior Capsular Opacification'     48\n",
       "Glaucoma'                             45\n",
       "Diabetic Retinopathy'                 39\n",
       "CSCR'                                 25\n",
       "CRVO'                                 22\n",
       "Macular Oedema'                       21\n",
       "Neurological Disorder'                21\n",
       "Temporal Defect'                      16\n",
       "Retinitis Pigmentosa '                14\n",
       "Keretoconrus '                         9\n",
       "Pigmentosa'                            1\n",
       "Name: DGS, dtype: int64"
      ]
     },
     "execution_count": 27,
     "metadata": {},
     "output_type": "execute_result"
    }
   ],
   "source": [
    "df['DGS'].value_counts()"
   ]
  },
  {
   "cell_type": "code",
   "execution_count": 28,
   "id": "8d04ef81-ce9e-41bb-8a0b-7ad8c2162f29",
   "metadata": {},
   "outputs": [
    {
     "data": {
      "image/png": "[encoded data removed]",
      "text/plain": [
       "<Figure size 640x480 with 1 Axes>"
      ]
     },
     "metadata": {},
     "output_type": "display_data"
    }
   ],
   "source": [
    "sns.countplot(x=df['DGS'])\n",
    "plt.title('Count plot of DGS')\n",
    "plt.xlabel('DGS')\n",
    "plt.ylabel('Count')\n",
    "plt.xticks(rotation=90)\n",
    "plt.show()"
   ]
  },
  {
   "cell_type": "code",
   "execution_count": 29,
   "id": "589b03b8-4782-4d9b-8180-002b9eb94156",
   "metadata": {},
   "outputs": [],
   "source": [
    "df1=le.fit_transform(df['DGS'])\n",
    "df['DGS']=df1"
   ]
  },
  {
   "cell_type": "code",
   "execution_count": 30,
   "id": "df711590-deff-4278-9416-c8eb165d41d5",
   "metadata": {},
   "outputs": [
    {
     "data": {
      "text/plain": [
       "B-Scan'                427\n",
       "Yag Laser'             192\n",
       "FFA'                    68\n",
       "Perimetry'              68\n",
       "Argon Laser Grid'       29\n",
       "Argon Laser  PRP'       21\n",
       "Argon Laser BRVO'       21\n",
       "Corneal Topography'      9\n",
       "Name: EXM, dtype: int64"
      ]
     },
     "execution_count": 30,
     "metadata": {},
     "output_type": "execute_result"
    }
   ],
   "source": [
    "df['EXM'].value_counts()\n"
   ]
  },
  {
   "cell_type": "code",
   "execution_count": 31,
   "id": "0e77dc5b-b782-4563-acd7-01ea1a024e53",
   "metadata": {},
   "outputs": [
    {
     "data": {
      "image/png": "[encoded data removed]",
      "text/plain": [
       "<Figure size 640x480 with 1 Axes>"
      ]
     },
     "metadata": {},
     "output_type": "display_data"
    }
   ],
   "source": [
    "sns.countplot(x=df['EXM'])\n",
    "plt.title('Count plot of EXM')\n",
    "plt.xlabel('EXM')\n",
    "plt.ylabel('Count')\n",
    "plt.xticks(rotation=90)\n",
    "plt.show()"
   ]
  },
  {
   "cell_type": "code",
   "execution_count": 32,
   "id": "f7ab7ebf-4f35-4a7a-869d-647fb5a22dbd",
   "metadata": {},
   "outputs": [],
   "source": [
    "df1=le.fit_transform(df['EXM'])\n",
    "df['EXM']=df1"
   ]
  },
  {
   "cell_type": "code",
   "execution_count": 33,
   "id": "002ffee9-80fd-4cf8-97f9-e2f7c59baf41",
   "metadata": {},
   "outputs": [
    {
     "data": {
      "text/plain": [
       "Vitractomy Surgery'                          254\n",
       "Repair  Surgery'                             173\n",
       "Yag Laser Peripherial Iridotomy'             145\n",
       "Navanac Eye Drop'                             87\n",
       "Yag LaserCapsulotomy'                         47\n",
       "Anti-Glaucoma Medication'                     45\n",
       "Neurological Surgery'                         18\n",
       "Tab: AZM,Navanac Eye Drop'                    15\n",
       "Tab: Vitamin A'                               15\n",
       "Inj: Avastin,Navanac Eye Drop'                14\n",
       "Corneal Transplantation '                      9\n",
       "Inj: Avastin,Argon Laser '                     3\n",
       "Inj: Avastin ,'Tab: AZM,Navanac Eye Drop'      2\n",
       "Laser Peripherial Iridotomy'                   2\n",
       "Trebyculectomy'                                1\n",
       "Argon Laser '                                  1\n",
       "Inj: Avastin,Argon Laser'                      1\n",
       "Trebyculectomy,Anti-Glaucoma Medication'       1\n",
       "Inj: Avastin '                                 1\n",
       "Neurological Disorder'                         1\n",
       "Name: STR, dtype: int64"
      ]
     },
     "execution_count": 33,
     "metadata": {},
     "output_type": "execute_result"
    }
   ],
   "source": [
    "df['STR'].value_counts()"
   ]
  },
  {
   "cell_type": "code",
   "execution_count": 34,
   "id": "d8046ad7-81e6-457a-b6fb-b1937930ab82",
   "metadata": {},
   "outputs": [
    {
     "data": {
      "image/png": "[encoded data removed]",
      "text/plain": [
       "<Figure size 640x480 with 1 Axes>"
      ]
     },
     "metadata": {},
     "output_type": "display_data"
    }
   ],
   "source": [
    "sns.countplot(x=df['STR'])\n",
    "plt.title('Count plot of STR')\n",
    "plt.xlabel('STR')\n",
    "plt.ylabel('Count')\n",
    "plt.xticks(rotation=90)\n",
    "plt.show()"
   ]
  },
  {
   "cell_type": "code",
   "execution_count": 35,
   "id": "5b4cbdb5-8815-496e-8c2f-016da877c11f",
   "metadata": {},
   "outputs": [],
   "source": [
    "df1=le.fit_transform(df['STR'])\n",
    "df['STR']=df1"
   ]
  },
  {
   "cell_type": "code",
   "execution_count": 36,
   "id": "50357af6-8507-465e-b3f3-678e7c3ac619",
   "metadata": {},
   "outputs": [
    {
     "data": {
      "text/plain": [
       "Satisfied '                        426\n",
       "Treatment Going On'                178\n",
       "UnSatisfied '                      139\n",
       "Leave Against Medical Advise'       84\n",
       "Leave Against Medical Record  '      8\n",
       "Name: PRK, dtype: int64"
      ]
     },
     "execution_count": 36,
     "metadata": {},
     "output_type": "execute_result"
    }
   ],
   "source": [
    "df['PRK'].value_counts()"
   ]
  },
  {
   "cell_type": "code",
   "execution_count": 37,
   "id": "abeb3398-664d-4e44-8d27-1536bc73887b",
   "metadata": {},
   "outputs": [
    {
     "data": {
      "image/png": "[encoded data removed]",
      "text/plain": [
       "<Figure size 640x480 with 1 Axes>"
      ]
     },
     "metadata": {},
     "output_type": "display_data"
    }
   ],
   "source": [
    "sns.countplot(x=df['PRK'])\n",
    "plt.title('Count plot of PRK')\n",
    "plt.xlabel('PRK')\n",
    "plt.ylabel('Count')\n",
    "plt.xticks(rotation=90)\n",
    "plt.show()"
   ]
  },
  {
   "cell_type": "code",
   "execution_count": 38,
   "id": "c3e4d992-a5d6-4947-93f9-6fd03ab69219",
   "metadata": {},
   "outputs": [],
   "source": [
    "df1=le.fit_transform(df['PRK'])\n",
    "df['PRK']=df1"
   ]
  },
  {
   "cell_type": "code",
   "execution_count": 39,
   "id": "d2390e89-e714-4af8-82de-f769586eac61",
   "metadata": {},
   "outputs": [
    {
     "data": {
      "text/html": [
       "<div>\n",
       "<style scoped>\n",
       "    .dataframe tbody tr th:only-of-type {\n",
       "        vertical-align: middle;\n",
       "    }\n",
       "\n",
       "    .dataframe tbody tr th {\n",
       "        vertical-align: top;\n",
       "    }\n",
       "\n",
       "    .dataframe thead th {\n",
       "        text-align: right;\n",
       "    }\n",
       "</style>\n",
       "<table border=\"1\" class=\"dataframe\">\n",
       "  <thead>\n",
       "    <tr style=\"text-align: right;\">\n",
       "      <th></th>\n",
       "      <th>PID</th>\n",
       "      <th>AGE</th>\n",
       "      <th>SEX</th>\n",
       "      <th>DATE</th>\n",
       "      <th>PCM</th>\n",
       "      <th>DGS</th>\n",
       "      <th>EXM</th>\n",
       "      <th>STR</th>\n",
       "      <th>PRK</th>\n",
       "      <th>LB</th>\n",
       "    </tr>\n",
       "  </thead>\n",
       "  <tbody>\n",
       "    <tr>\n",
       "      <th>0</th>\n",
       "      <td>15863</td>\n",
       "      <td>46</td>\n",
       "      <td>1</td>\n",
       "      <td>1</td>\n",
       "      <td>5</td>\n",
       "      <td>10</td>\n",
       "      <td>3</td>\n",
       "      <td>12</td>\n",
       "      <td>3</td>\n",
       "      <td>0</td>\n",
       "    </tr>\n",
       "    <tr>\n",
       "      <th>1</th>\n",
       "      <td>15863</td>\n",
       "      <td>46</td>\n",
       "      <td>1</td>\n",
       "      <td>65</td>\n",
       "      <td>5</td>\n",
       "      <td>10</td>\n",
       "      <td>3</td>\n",
       "      <td>12</td>\n",
       "      <td>2</td>\n",
       "      <td>0</td>\n",
       "    </tr>\n",
       "    <tr>\n",
       "      <th>2</th>\n",
       "      <td>15864</td>\n",
       "      <td>42</td>\n",
       "      <td>0</td>\n",
       "      <td>1</td>\n",
       "      <td>5</td>\n",
       "      <td>13</td>\n",
       "      <td>3</td>\n",
       "      <td>17</td>\n",
       "      <td>3</td>\n",
       "      <td>0</td>\n",
       "    </tr>\n",
       "    <tr>\n",
       "      <th>3</th>\n",
       "      <td>15864</td>\n",
       "      <td>42</td>\n",
       "      <td>0</td>\n",
       "      <td>42</td>\n",
       "      <td>5</td>\n",
       "      <td>13</td>\n",
       "      <td>3</td>\n",
       "      <td>17</td>\n",
       "      <td>2</td>\n",
       "      <td>0</td>\n",
       "    </tr>\n",
       "    <tr>\n",
       "      <th>4</th>\n",
       "      <td>15865</td>\n",
       "      <td>9</td>\n",
       "      <td>1</td>\n",
       "      <td>1</td>\n",
       "      <td>5</td>\n",
       "      <td>10</td>\n",
       "      <td>3</td>\n",
       "      <td>12</td>\n",
       "      <td>3</td>\n",
       "      <td>0</td>\n",
       "    </tr>\n",
       "  </tbody>\n",
       "</table>\n",
       "</div>"
      ],
      "text/plain": [
       "     PID  AGE  SEX  DATE  PCM  DGS  EXM  STR  PRK  LB\n",
       "0  15863   46    1     1    5   10    3   12    3   0\n",
       "1  15863   46    1    65    5   10    3   12    2   0\n",
       "2  15864   42    0     1    5   13    3   17    3   0\n",
       "3  15864   42    0    42    5   13    3   17    2   0\n",
       "4  15865    9    1     1    5   10    3   12    3   0"
      ]
     },
     "execution_count": 39,
     "metadata": {},
     "output_type": "execute_result"
    }
   ],
   "source": [
    "df.head()"
   ]
  },
  {
   "cell_type": "code",
   "execution_count": 40,
   "id": "b8e0d528",
   "metadata": {},
   "outputs": [
    {
     "name": "stdout",
     "output_type": "stream",
     "text": [
      "<class 'pandas.core.frame.DataFrame'>\n",
      "RangeIndex: 835 entries, 0 to 834\n",
      "Data columns (total 10 columns):\n",
      " #   Column  Non-Null Count  Dtype\n",
      "---  ------  --------------  -----\n",
      " 0   PID     835 non-null    int64\n",
      " 1   AGE     835 non-null    int64\n",
      " 2   SEX     835 non-null    int32\n",
      " 3   DATE    835 non-null    int32\n",
      " 4   PCM     835 non-null    int32\n",
      " 5   DGS     835 non-null    int32\n",
      " 6   EXM     835 non-null    int32\n",
      " 7   STR     835 non-null    int32\n",
      " 8   PRK     835 non-null    int32\n",
      " 9   LB      835 non-null    int64\n",
      "dtypes: int32(7), int64(3)\n",
      "memory usage: 42.5 KB\n"
     ]
    }
   ],
   "source": [
    "df.info()"
   ]
  },
  {
   "cell_type": "code",
   "execution_count": 41,
   "id": "552ce8c9",
   "metadata": {},
   "outputs": [
    {
     "data": {
      "text/html": [
       "<div>\n",
       "<style scoped>\n",
       "    .dataframe tbody tr th:only-of-type {\n",
       "        vertical-align: middle;\n",
       "    }\n",
       "\n",
       "    .dataframe tbody tr th {\n",
       "        vertical-align: top;\n",
       "    }\n",
       "\n",
       "    .dataframe thead th {\n",
       "        text-align: right;\n",
       "    }\n",
       "</style>\n",
       "<table border=\"1\" class=\"dataframe\">\n",
       "  <thead>\n",
       "    <tr style=\"text-align: right;\">\n",
       "      <th></th>\n",
       "      <th>PID</th>\n",
       "      <th>AGE</th>\n",
       "      <th>SEX</th>\n",
       "      <th>DATE</th>\n",
       "      <th>PCM</th>\n",
       "      <th>DGS</th>\n",
       "      <th>EXM</th>\n",
       "      <th>STR</th>\n",
       "      <th>PRK</th>\n",
       "      <th>LB</th>\n",
       "    </tr>\n",
       "  </thead>\n",
       "  <tbody>\n",
       "    <tr>\n",
       "      <th>count</th>\n",
       "      <td>835.000000</td>\n",
       "      <td>835.000000</td>\n",
       "      <td>835.000000</td>\n",
       "      <td>835.000000</td>\n",
       "      <td>835.000000</td>\n",
       "      <td>835.000000</td>\n",
       "      <td>835.000000</td>\n",
       "      <td>835.000000</td>\n",
       "      <td>835.000000</td>\n",
       "      <td>835.00000</td>\n",
       "    </tr>\n",
       "    <tr>\n",
       "      <th>mean</th>\n",
       "      <td>16465.417964</td>\n",
       "      <td>44.676647</td>\n",
       "      <td>0.590419</td>\n",
       "      <td>76.504192</td>\n",
       "      <td>1.876647</td>\n",
       "      <td>7.749701</td>\n",
       "      <td>4.177246</td>\n",
       "      <td>13.759281</td>\n",
       "      <td>2.335329</td>\n",
       "      <td>0.20479</td>\n",
       "    </tr>\n",
       "    <tr>\n",
       "      <th>std</th>\n",
       "      <td>366.516398</td>\n",
       "      <td>20.023808</td>\n",
       "      <td>0.492051</td>\n",
       "      <td>41.704176</td>\n",
       "      <td>2.056835</td>\n",
       "      <td>4.967362</td>\n",
       "      <td>1.930994</td>\n",
       "      <td>4.954059</td>\n",
       "      <td>1.086271</td>\n",
       "      <td>0.40379</td>\n",
       "    </tr>\n",
       "    <tr>\n",
       "      <th>min</th>\n",
       "      <td>15863.000000</td>\n",
       "      <td>1.000000</td>\n",
       "      <td>0.000000</td>\n",
       "      <td>0.000000</td>\n",
       "      <td>0.000000</td>\n",
       "      <td>0.000000</td>\n",
       "      <td>0.000000</td>\n",
       "      <td>0.000000</td>\n",
       "      <td>0.000000</td>\n",
       "      <td>0.00000</td>\n",
       "    </tr>\n",
       "    <tr>\n",
       "      <th>25%</th>\n",
       "      <td>16129.500000</td>\n",
       "      <td>30.000000</td>\n",
       "      <td>0.000000</td>\n",
       "      <td>42.000000</td>\n",
       "      <td>0.000000</td>\n",
       "      <td>3.000000</td>\n",
       "      <td>3.000000</td>\n",
       "      <td>12.000000</td>\n",
       "      <td>2.000000</td>\n",
       "      <td>0.00000</td>\n",
       "    </tr>\n",
       "    <tr>\n",
       "      <th>50%</th>\n",
       "      <td>16445.000000</td>\n",
       "      <td>50.000000</td>\n",
       "      <td>1.000000</td>\n",
       "      <td>77.000000</td>\n",
       "      <td>1.000000</td>\n",
       "      <td>10.000000</td>\n",
       "      <td>3.000000</td>\n",
       "      <td>17.000000</td>\n",
       "      <td>2.000000</td>\n",
       "      <td>0.00000</td>\n",
       "    </tr>\n",
       "    <tr>\n",
       "      <th>75%</th>\n",
       "      <td>16789.000000</td>\n",
       "      <td>60.000000</td>\n",
       "      <td>1.000000</td>\n",
       "      <td>111.000000</td>\n",
       "      <td>4.000000</td>\n",
       "      <td>13.000000</td>\n",
       "      <td>6.000000</td>\n",
       "      <td>17.000000</td>\n",
       "      <td>3.000000</td>\n",
       "      <td>0.00000</td>\n",
       "    </tr>\n",
       "    <tr>\n",
       "      <th>max</th>\n",
       "      <td>17113.000000</td>\n",
       "      <td>86.000000</td>\n",
       "      <td>1.000000</td>\n",
       "      <td>145.000000</td>\n",
       "      <td>5.000000</td>\n",
       "      <td>13.000000</td>\n",
       "      <td>7.000000</td>\n",
       "      <td>19.000000</td>\n",
       "      <td>4.000000</td>\n",
       "      <td>1.00000</td>\n",
       "    </tr>\n",
       "  </tbody>\n",
       "</table>\n",
       "</div>"
      ],
      "text/plain": [
       "                PID         AGE         SEX        DATE         PCM  \\\n",
       "count    835.000000  835.000000  835.000000  835.000000  835.000000   \n",
       "mean   16465.417964   44.676647    0.590419   76.504192    1.876647   \n",
       "std      366.516398   20.023808    0.492051   41.704176    2.056835   \n",
       "min    15863.000000    1.000000    0.000000    0.000000    0.000000   \n",
       "25%    16129.500000   30.000000    0.000000   42.000000    0.000000   \n",
       "50%    16445.000000   50.000000    1.000000   77.000000    1.000000   \n",
       "75%    16789.000000   60.000000    1.000000  111.000000    4.000000   \n",
       "max    17113.000000   86.000000    1.000000  145.000000    5.000000   \n",
       "\n",
       "              DGS         EXM         STR         PRK         LB  \n",
       "count  835.000000  835.000000  835.000000  835.000000  835.00000  \n",
       "mean     7.749701    4.177246   13.759281    2.335329    0.20479  \n",
       "std      4.967362    1.930994    4.954059    1.086271    0.40379  \n",
       "min      0.000000    0.000000    0.000000    0.000000    0.00000  \n",
       "25%      3.000000    3.000000   12.000000    2.000000    0.00000  \n",
       "50%     10.000000    3.000000   17.000000    2.000000    0.00000  \n",
       "75%     13.000000    6.000000   17.000000    3.000000    0.00000  \n",
       "max     13.000000    7.000000   19.000000    4.000000    1.00000  "
      ]
     },
     "execution_count": 41,
     "metadata": {},
     "output_type": "execute_result"
    }
   ],
   "source": [
    "df.describe()"
   ]
  },
  {
   "cell_type": "code",
   "execution_count": 42,
   "id": "4a75fa73",
   "metadata": {},
   "outputs": [
    {
     "data": {
      "text/plain": [
       "PID     int64\n",
       "AGE     int64\n",
       "SEX     int32\n",
       "DATE    int32\n",
       "PCM     int32\n",
       "DGS     int32\n",
       "EXM     int32\n",
       "STR     int32\n",
       "PRK     int32\n",
       "LB      int64\n",
       "dtype: object"
      ]
     },
     "execution_count": 42,
     "metadata": {},
     "output_type": "execute_result"
    }
   ],
   "source": [
    "df.dtypes"
   ]
  },
  {
   "cell_type": "markdown",
   "id": "230c4c7c",
   "metadata": {},
   "source": [
    "# OUTLIER DETECTION AND REMOVAL"
   ]
  },
  {
   "cell_type": "code",
   "execution_count": 43,
   "id": "cc3693b3-ba74-43d5-bace-2dcc8b029a45",
   "metadata": {},
   "outputs": [],
   "source": [
    "columns=['PID','AGE','SEX','DATE','PCM','DGS','EXM','STR','PRK']"
   ]
  },
  {
   "cell_type": "code",
   "execution_count": 44,
   "id": "693661b8-3134-443d-bacd-9523a68ee8ac",
   "metadata": {
    "scrolled": true
   },
   "outputs": [
    {
     "data": {
      "image/png": "[encoded data removed]",
      "text/plain": [
       "<Figure size 2000x1000 with 9 Axes>"
      ]
     },
     "metadata": {},
     "output_type": "display_data"
    }
   ],
   "source": [
    "def boxplots_custom(dataset,columns_list,rows,cols,suptitle):\n",
    "    fig,axs=plt.subplots(rows,cols,sharey=True,figsize=(20,10))\n",
    "    fig.suptitle(suptitle,y=1,size=25)\n",
    "    axs=axs.flatten()\n",
    "    for i,data in enumerate(columns_list):\n",
    "        sns.boxplot(data=dataset[data],orient='h',ax=axs[i])\n",
    "        axs[i].set_title(data+',skewness is: '+str(round(dataset[data].skew(axis=0,skipna=True),2)),size=20)\n",
    "        \n",
    "boxplots_custom(dataset=df, columns_list=columns, rows=3,cols=3,suptitle='Boxplots for each variable')\n",
    "plt.tight_layout()"
   ]
  },
  {
   "cell_type": "code",
   "execution_count": 45,
   "id": "1ff90b69",
   "metadata": {},
   "outputs": [
    {
     "data": {
      "image/png": "[encoded data removed]",
      "text/plain": [
       "<Figure size 640x480 with 1 Axes>"
      ]
     },
     "metadata": {},
     "output_type": "display_data"
    },
    {
     "data": {
      "image/png": "[encoded data removed]",
      "text/plain": [
       "<Figure size 640x480 with 1 Axes>"
      ]
     },
     "metadata": {},
     "output_type": "display_data"
    },
    {
     "data": {
      "image/png": "[encoded data removed]",
      "text/plain": [
       "<Figure size 640x480 with 1 Axes>"
      ]
     },
     "metadata": {},
     "output_type": "display_data"
    },
    {
     "data": {
      "image/png": "[encoded data removed]",
      "text/plain": [
       "<Figure size 640x480 with 1 Axes>"
      ]
     },
     "metadata": {},
     "output_type": "display_data"
    },
    {
     "data": {
      "image/png": "[encoded data removed]",
      "text/plain": [
       "<Figure size 640x480 with 1 Axes>"
      ]
     },
     "metadata": {},
     "output_type": "display_data"
    },
    {
     "data": {
      "image/png": "[encoded data removed]",
      "text/plain": [
       "<Figure size 640x480 with 1 Axes>"
      ]
     },
     "metadata": {},
     "output_type": "display_data"
    },
    {
     "data": {
      "image/png": "[encoded data removed]",
      "text/plain": [
       "<Figure size 640x480 with 1 Axes>"
      ]
     },
     "metadata": {},
     "output_type": "display_data"
    },
    {
     "data": {
      "image/png": "[encoded data removed]",
      "text/plain": [
       "<Figure size 640x480 with 1 Axes>"
      ]
     },
     "metadata": {},
     "output_type": "display_data"
    },
    {
     "data": {
      "image/png": "[encoded data removed]",
      "text/plain": [
       "<Figure size 640x480 with 1 Axes>"
      ]
     },
     "metadata": {},
     "output_type": "display_data"
    }
   ],
   "source": [
    "import matplotlib.pyplot as plt\n",
    "import numpy as np\n",
    "from scipy.stats import norm\n",
    "columns=['PID','AGE','SEX','DATE','PCM','DGS','EXM','STR','PRK']\n",
    "for column in columns:\n",
    "    mu,std=norm.fit(df[column])\n",
    "    plt.hist(df[column],bins=25,density=True,alpha=0.6,color='g')\n",
    "    xmin,xmax=plt.xlim()\n",
    "    x=np.linspace(xmin,xmax,100)\n",
    "    y=norm.pdf(x,mu,std)\n",
    "    plt.plot(x,y,'r',linewidth=2)\n",
    "    plt.legend([f'Normal distribution\\n(mean={mu:.2f},std=std={std:.2f})','Data'])\n",
    "    plt.xlabel(column)\n",
    "    plt.ylabel(\"Density\")\n",
    "    plt.title(f'Normal distribution of {column}')\n",
    "    plt.show()\n",
    "    "
   ]
  },
  {
   "cell_type": "code",
   "execution_count": 46,
   "id": "1711a786",
   "metadata": {},
   "outputs": [
    {
     "name": "stdout",
     "output_type": "stream",
     "text": [
      "The data PID  is not normally distributed\n",
      "The data AGE  is not normally distributed\n",
      "The data SEX  is not normally distributed\n",
      "The data DATE  is not normally distributed\n",
      "The data PCM  is not normally distributed\n",
      "The data DGS  is not normally distributed\n",
      "The data EXM  is not normally distributed\n",
      "The data STR  is not normally distributed\n",
      "The data PRK  is not normally distributed\n"
     ]
    }
   ],
   "source": [
    "from scipy.stats import shapiro\n",
    "columns=['PID','AGE','SEX','DATE','PCM','DGS','EXM','STR','PRK']\n",
    "\n",
    "for col in columns:\n",
    "    stat,p=shapiro(df)\n",
    "    alpha=0.05\n",
    "    if p>alpha:\n",
    "        print(\"The data\",col,\"is normally distributed\")\n",
    "    else:\n",
    "        print(\"The data\",col,\" is not normally distributed\")"
   ]
  },
  {
   "cell_type": "code",
   "execution_count": 47,
   "id": "757ea2e4-500f-45e7-96c1-47f769fde971",
   "metadata": {},
   "outputs": [],
   "source": [
    "def remove_outliers_zscore(ed, columns, threshold=2.5):\n",
    "    for col in columns:\n",
    "        z_scores = np.abs((ed[col] - ed[col].mean()) / ed[col].std())\n",
    "        ed[col][z_scores > threshold] = np.nan\n",
    "    ed.dropna(inplace=True)\n",
    "    return ed\n",
    "\n",
    "columns = ['STR', 'PRK']\n",
    "df = remove_outliers_zscore(df, columns)\n",
    "\n"
   ]
  },
  {
   "cell_type": "code",
   "execution_count": 48,
   "id": "267e01da-1e40-4347-b339-bd9bb1f95996",
   "metadata": {},
   "outputs": [
    {
     "data": {
      "text/plain": [
       "(789, 10)"
      ]
     },
     "execution_count": 48,
     "metadata": {},
     "output_type": "execute_result"
    }
   ],
   "source": [
    "df.shape"
   ]
  },
  {
   "cell_type": "code",
   "execution_count": 49,
   "id": "73da5577-de52-42af-8dfa-8e89f6037fd4",
   "metadata": {},
   "outputs": [
    {
     "data": {
      "text/html": [
       "<div>\n",
       "<style scoped>\n",
       "    .dataframe tbody tr th:only-of-type {\n",
       "        vertical-align: middle;\n",
       "    }\n",
       "\n",
       "    .dataframe tbody tr th {\n",
       "        vertical-align: top;\n",
       "    }\n",
       "\n",
       "    .dataframe thead th {\n",
       "        text-align: right;\n",
       "    }\n",
       "</style>\n",
       "<table border=\"1\" class=\"dataframe\">\n",
       "  <thead>\n",
       "    <tr style=\"text-align: right;\">\n",
       "      <th></th>\n",
       "      <th>PID</th>\n",
       "      <th>AGE</th>\n",
       "      <th>SEX</th>\n",
       "      <th>DATE</th>\n",
       "      <th>PCM</th>\n",
       "      <th>DGS</th>\n",
       "      <th>EXM</th>\n",
       "      <th>STR</th>\n",
       "      <th>PRK</th>\n",
       "      <th>LB</th>\n",
       "    </tr>\n",
       "  </thead>\n",
       "  <tbody>\n",
       "    <tr>\n",
       "      <th>0</th>\n",
       "      <td>15863</td>\n",
       "      <td>46</td>\n",
       "      <td>1</td>\n",
       "      <td>1</td>\n",
       "      <td>5</td>\n",
       "      <td>10</td>\n",
       "      <td>3</td>\n",
       "      <td>12.0</td>\n",
       "      <td>3</td>\n",
       "      <td>0</td>\n",
       "    </tr>\n",
       "    <tr>\n",
       "      <th>1</th>\n",
       "      <td>15863</td>\n",
       "      <td>46</td>\n",
       "      <td>1</td>\n",
       "      <td>65</td>\n",
       "      <td>5</td>\n",
       "      <td>10</td>\n",
       "      <td>3</td>\n",
       "      <td>12.0</td>\n",
       "      <td>2</td>\n",
       "      <td>0</td>\n",
       "    </tr>\n",
       "    <tr>\n",
       "      <th>2</th>\n",
       "      <td>15864</td>\n",
       "      <td>42</td>\n",
       "      <td>0</td>\n",
       "      <td>1</td>\n",
       "      <td>5</td>\n",
       "      <td>13</td>\n",
       "      <td>3</td>\n",
       "      <td>17.0</td>\n",
       "      <td>3</td>\n",
       "      <td>0</td>\n",
       "    </tr>\n",
       "    <tr>\n",
       "      <th>3</th>\n",
       "      <td>15864</td>\n",
       "      <td>42</td>\n",
       "      <td>0</td>\n",
       "      <td>42</td>\n",
       "      <td>5</td>\n",
       "      <td>13</td>\n",
       "      <td>3</td>\n",
       "      <td>17.0</td>\n",
       "      <td>2</td>\n",
       "      <td>0</td>\n",
       "    </tr>\n",
       "    <tr>\n",
       "      <th>4</th>\n",
       "      <td>15865</td>\n",
       "      <td>9</td>\n",
       "      <td>1</td>\n",
       "      <td>1</td>\n",
       "      <td>5</td>\n",
       "      <td>10</td>\n",
       "      <td>3</td>\n",
       "      <td>12.0</td>\n",
       "      <td>3</td>\n",
       "      <td>0</td>\n",
       "    </tr>\n",
       "  </tbody>\n",
       "</table>\n",
       "</div>"
      ],
      "text/plain": [
       "     PID  AGE  SEX  DATE  PCM  DGS  EXM   STR  PRK  LB\n",
       "0  15863   46    1     1    5   10    3  12.0    3   0\n",
       "1  15863   46    1    65    5   10    3  12.0    2   0\n",
       "2  15864   42    0     1    5   13    3  17.0    3   0\n",
       "3  15864   42    0    42    5   13    3  17.0    2   0\n",
       "4  15865    9    1     1    5   10    3  12.0    3   0"
      ]
     },
     "execution_count": 49,
     "metadata": {},
     "output_type": "execute_result"
    }
   ],
   "source": [
    "df.head()"
   ]
  },
  {
   "cell_type": "code",
   "execution_count": 50,
   "id": "2301b9da-b1c8-4380-aa6c-7909e400ab42",
   "metadata": {},
   "outputs": [
    {
     "data": {
      "text/plain": [
       "0    663\n",
       "1    126\n",
       "Name: LB, dtype: int64"
      ]
     },
     "execution_count": 50,
     "metadata": {},
     "output_type": "execute_result"
    }
   ],
   "source": [
    "df['LB'].value_counts()"
   ]
  },
  {
   "cell_type": "code",
   "execution_count": 51,
   "id": "119573a2-3dec-412e-bafb-b759303135ad",
   "metadata": {},
   "outputs": [
    {
     "name": "stdout",
     "output_type": "stream",
     "text": [
      "(789, 10)\n"
     ]
    }
   ],
   "source": [
    "print(df.shape)"
   ]
  },
  {
   "cell_type": "code",
   "execution_count": 52,
   "id": "453227d5-0dd0-4658-b24e-930b71173db2",
   "metadata": {},
   "outputs": [],
   "source": [
    "correlation=df.corr(method='pearson')"
   ]
  },
  {
   "cell_type": "code",
   "execution_count": 53,
   "id": "12adfc73-6919-4f73-b4a8-aa2f383cb68f",
   "metadata": {},
   "outputs": [
    {
     "data": {
      "text/plain": [
       "<Axes: >"
      ]
     },
     "execution_count": 53,
     "metadata": {},
     "output_type": "execute_result"
    },
    {
     "data": {
      "image/png": "[encoded data removed]",
      "text/plain": [
       "<Figure size 800x800 with 2 Axes>"
      ]
     },
     "metadata": {},
     "output_type": "display_data"
    }
   ],
   "source": [
    "plt.figure(figsize=(8,8))\n",
    "sns.heatmap(correlation,cbar=True,square=True,fmt='.2f',annot=True,annot_kws={'size':8})"
   ]
  },
  {
   "cell_type": "code",
   "execution_count": 54,
   "id": "b86c56fd-a69d-45e2-8f8f-e36fcdc34b2d",
   "metadata": {},
   "outputs": [
    {
     "name": "stdout",
     "output_type": "stream",
     "text": [
      "PID    -0.038658\n",
      "AGE     0.046579\n",
      "SEX     0.081492\n",
      "DATE    0.028076\n",
      "PCM    -0.256673\n",
      "DGS    -0.223960\n",
      "EXM    -0.300743\n",
      "STR    -0.575173\n",
      "PRK     0.054097\n",
      "LB      1.000000\n",
      "Name: LB, dtype: float64\n"
     ]
    }
   ],
   "source": [
    "print(correlation['LB'])"
   ]
  },
  {
   "cell_type": "code",
   "execution_count": 55,
   "id": "0641fd11-e522-49b7-9a73-044f03f9dce9",
   "metadata": {},
   "outputs": [
    {
     "data": {
      "text/html": [
       "<div>\n",
       "<style scoped>\n",
       "    .dataframe tbody tr th:only-of-type {\n",
       "        vertical-align: middle;\n",
       "    }\n",
       "\n",
       "    .dataframe tbody tr th {\n",
       "        vertical-align: top;\n",
       "    }\n",
       "\n",
       "    .dataframe thead th {\n",
       "        text-align: right;\n",
       "    }\n",
       "</style>\n",
       "<table border=\"1\" class=\"dataframe\">\n",
       "  <thead>\n",
       "    <tr style=\"text-align: right;\">\n",
       "      <th></th>\n",
       "      <th>PID</th>\n",
       "      <th>AGE</th>\n",
       "      <th>SEX</th>\n",
       "      <th>DATE</th>\n",
       "      <th>PCM</th>\n",
       "      <th>DGS</th>\n",
       "      <th>EXM</th>\n",
       "      <th>STR</th>\n",
       "      <th>PRK</th>\n",
       "      <th>LB</th>\n",
       "    </tr>\n",
       "  </thead>\n",
       "  <tbody>\n",
       "    <tr>\n",
       "      <th>0</th>\n",
       "      <td>15863</td>\n",
       "      <td>46</td>\n",
       "      <td>1</td>\n",
       "      <td>1</td>\n",
       "      <td>5</td>\n",
       "      <td>10</td>\n",
       "      <td>3</td>\n",
       "      <td>12.0</td>\n",
       "      <td>3</td>\n",
       "      <td>0</td>\n",
       "    </tr>\n",
       "    <tr>\n",
       "      <th>1</th>\n",
       "      <td>15863</td>\n",
       "      <td>46</td>\n",
       "      <td>1</td>\n",
       "      <td>65</td>\n",
       "      <td>5</td>\n",
       "      <td>10</td>\n",
       "      <td>3</td>\n",
       "      <td>12.0</td>\n",
       "      <td>2</td>\n",
       "      <td>0</td>\n",
       "    </tr>\n",
       "    <tr>\n",
       "      <th>2</th>\n",
       "      <td>15864</td>\n",
       "      <td>42</td>\n",
       "      <td>0</td>\n",
       "      <td>1</td>\n",
       "      <td>5</td>\n",
       "      <td>13</td>\n",
       "      <td>3</td>\n",
       "      <td>17.0</td>\n",
       "      <td>3</td>\n",
       "      <td>0</td>\n",
       "    </tr>\n",
       "    <tr>\n",
       "      <th>3</th>\n",
       "      <td>15864</td>\n",
       "      <td>42</td>\n",
       "      <td>0</td>\n",
       "      <td>42</td>\n",
       "      <td>5</td>\n",
       "      <td>13</td>\n",
       "      <td>3</td>\n",
       "      <td>17.0</td>\n",
       "      <td>2</td>\n",
       "      <td>0</td>\n",
       "    </tr>\n",
       "    <tr>\n",
       "      <th>4</th>\n",
       "      <td>15865</td>\n",
       "      <td>9</td>\n",
       "      <td>1</td>\n",
       "      <td>1</td>\n",
       "      <td>5</td>\n",
       "      <td>10</td>\n",
       "      <td>3</td>\n",
       "      <td>12.0</td>\n",
       "      <td>3</td>\n",
       "      <td>0</td>\n",
       "    </tr>\n",
       "  </tbody>\n",
       "</table>\n",
       "</div>"
      ],
      "text/plain": [
       "     PID  AGE  SEX  DATE  PCM  DGS  EXM   STR  PRK  LB\n",
       "0  15863   46    1     1    5   10    3  12.0    3   0\n",
       "1  15863   46    1    65    5   10    3  12.0    2   0\n",
       "2  15864   42    0     1    5   13    3  17.0    3   0\n",
       "3  15864   42    0    42    5   13    3  17.0    2   0\n",
       "4  15865    9    1     1    5   10    3  12.0    3   0"
      ]
     },
     "execution_count": 55,
     "metadata": {},
     "output_type": "execute_result"
    }
   ],
   "source": [
    "df.head()"
   ]
  },
  {
   "cell_type": "markdown",
   "id": "8b41b1ed",
   "metadata": {},
   "source": [
    "# DATA PREDICTION(STAGE-2)"
   ]
  },
  {
   "cell_type": "code",
   "execution_count": 56,
   "id": "391c323a-4eb8-4f56-80b8-f77b6b2adc7b",
   "metadata": {},
   "outputs": [],
   "source": [
    "X=df.iloc[:,[1,2,5,8]].values\n",
    "Y=df.iloc[:,7].values"
   ]
  },
  {
   "cell_type": "code",
   "execution_count": 57,
   "id": "cfee4b27-fa2f-4e60-af21-e93f024e2d99",
   "metadata": {},
   "outputs": [
    {
     "name": "stdout",
     "output_type": "stream",
     "text": [
      "(789, 4)\n"
     ]
    },
    {
     "data": {
      "text/html": [
       "<div>\n",
       "<style scoped>\n",
       "    .dataframe tbody tr th:only-of-type {\n",
       "        vertical-align: middle;\n",
       "    }\n",
       "\n",
       "    .dataframe tbody tr th {\n",
       "        vertical-align: top;\n",
       "    }\n",
       "\n",
       "    .dataframe thead th {\n",
       "        text-align: right;\n",
       "    }\n",
       "</style>\n",
       "<table border=\"1\" class=\"dataframe\">\n",
       "  <thead>\n",
       "    <tr style=\"text-align: right;\">\n",
       "      <th></th>\n",
       "      <th>0</th>\n",
       "      <th>1</th>\n",
       "      <th>2</th>\n",
       "      <th>3</th>\n",
       "    </tr>\n",
       "  </thead>\n",
       "  <tbody>\n",
       "    <tr>\n",
       "      <th>0</th>\n",
       "      <td>46</td>\n",
       "      <td>1</td>\n",
       "      <td>10</td>\n",
       "      <td>3</td>\n",
       "    </tr>\n",
       "    <tr>\n",
       "      <th>1</th>\n",
       "      <td>46</td>\n",
       "      <td>1</td>\n",
       "      <td>10</td>\n",
       "      <td>2</td>\n",
       "    </tr>\n",
       "    <tr>\n",
       "      <th>2</th>\n",
       "      <td>42</td>\n",
       "      <td>0</td>\n",
       "      <td>13</td>\n",
       "      <td>3</td>\n",
       "    </tr>\n",
       "    <tr>\n",
       "      <th>3</th>\n",
       "      <td>42</td>\n",
       "      <td>0</td>\n",
       "      <td>13</td>\n",
       "      <td>2</td>\n",
       "    </tr>\n",
       "    <tr>\n",
       "      <th>4</th>\n",
       "      <td>9</td>\n",
       "      <td>1</td>\n",
       "      <td>10</td>\n",
       "      <td>3</td>\n",
       "    </tr>\n",
       "  </tbody>\n",
       "</table>\n",
       "</div>"
      ],
      "text/plain": [
       "    0  1   2  3\n",
       "0  46  1  10  3\n",
       "1  46  1  10  2\n",
       "2  42  0  13  3\n",
       "3  42  0  13  2\n",
       "4   9  1  10  3"
      ]
     },
     "execution_count": 57,
     "metadata": {},
     "output_type": "execute_result"
    }
   ],
   "source": [
    "Xdf=pd.DataFrame(X)\n",
    "print(Xdf.shape)\n",
    "Xdf.head()"
   ]
  },
  {
   "cell_type": "code",
   "execution_count": 58,
   "id": "efae3207-777e-4761-93ed-3316fd875500",
   "metadata": {},
   "outputs": [
    {
     "data": {
      "text/plain": [
       "(789,)"
      ]
     },
     "execution_count": 58,
     "metadata": {},
     "output_type": "execute_result"
    }
   ],
   "source": [
    "Y.shape"
   ]
  },
  {
   "cell_type": "code",
   "execution_count": 59,
   "id": "bcc906a7-b92a-44c2-9248-d2cd61cad850",
   "metadata": {},
   "outputs": [
    {
     "data": {
      "text/html": [
       "<div>\n",
       "<style scoped>\n",
       "    .dataframe tbody tr th:only-of-type {\n",
       "        vertical-align: middle;\n",
       "    }\n",
       "\n",
       "    .dataframe tbody tr th {\n",
       "        vertical-align: top;\n",
       "    }\n",
       "\n",
       "    .dataframe thead th {\n",
       "        text-align: right;\n",
       "    }\n",
       "</style>\n",
       "<table border=\"1\" class=\"dataframe\">\n",
       "  <thead>\n",
       "    <tr style=\"text-align: right;\">\n",
       "      <th></th>\n",
       "      <th>0</th>\n",
       "    </tr>\n",
       "  </thead>\n",
       "  <tbody>\n",
       "    <tr>\n",
       "      <th>0</th>\n",
       "      <td>12.0</td>\n",
       "    </tr>\n",
       "    <tr>\n",
       "      <th>1</th>\n",
       "      <td>12.0</td>\n",
       "    </tr>\n",
       "    <tr>\n",
       "      <th>2</th>\n",
       "      <td>17.0</td>\n",
       "    </tr>\n",
       "    <tr>\n",
       "      <th>3</th>\n",
       "      <td>17.0</td>\n",
       "    </tr>\n",
       "    <tr>\n",
       "      <th>4</th>\n",
       "      <td>12.0</td>\n",
       "    </tr>\n",
       "  </tbody>\n",
       "</table>\n",
       "</div>"
      ],
      "text/plain": [
       "      0\n",
       "0  12.0\n",
       "1  12.0\n",
       "2  17.0\n",
       "3  17.0\n",
       "4  12.0"
      ]
     },
     "execution_count": 59,
     "metadata": {},
     "output_type": "execute_result"
    }
   ],
   "source": [
    "Ydf=pd.DataFrame(Y)\n",
    "Ydf.head(5)"
   ]
  },
  {
   "cell_type": "code",
   "execution_count": 60,
   "id": "fc0ccc4a",
   "metadata": {},
   "outputs": [
    {
     "data": {
      "text/html": [
       "<div>\n",
       "<style scoped>\n",
       "    .dataframe tbody tr th:only-of-type {\n",
       "        vertical-align: middle;\n",
       "    }\n",
       "\n",
       "    .dataframe tbody tr th {\n",
       "        vertical-align: top;\n",
       "    }\n",
       "\n",
       "    .dataframe thead th {\n",
       "        text-align: right;\n",
       "    }\n",
       "</style>\n",
       "<table border=\"1\" class=\"dataframe\">\n",
       "  <thead>\n",
       "    <tr style=\"text-align: right;\">\n",
       "      <th></th>\n",
       "      <th>PID</th>\n",
       "      <th>AGE</th>\n",
       "      <th>SEX</th>\n",
       "      <th>DATE</th>\n",
       "      <th>PCM</th>\n",
       "      <th>DGS</th>\n",
       "      <th>EXM</th>\n",
       "      <th>STR</th>\n",
       "      <th>PRK</th>\n",
       "      <th>LB</th>\n",
       "    </tr>\n",
       "  </thead>\n",
       "  <tbody>\n",
       "    <tr>\n",
       "      <th>0</th>\n",
       "      <td>15863</td>\n",
       "      <td>46</td>\n",
       "      <td>1</td>\n",
       "      <td>1</td>\n",
       "      <td>5</td>\n",
       "      <td>10</td>\n",
       "      <td>3</td>\n",
       "      <td>12.0</td>\n",
       "      <td>3</td>\n",
       "      <td>0</td>\n",
       "    </tr>\n",
       "    <tr>\n",
       "      <th>1</th>\n",
       "      <td>15863</td>\n",
       "      <td>46</td>\n",
       "      <td>1</td>\n",
       "      <td>65</td>\n",
       "      <td>5</td>\n",
       "      <td>10</td>\n",
       "      <td>3</td>\n",
       "      <td>12.0</td>\n",
       "      <td>2</td>\n",
       "      <td>0</td>\n",
       "    </tr>\n",
       "    <tr>\n",
       "      <th>2</th>\n",
       "      <td>15864</td>\n",
       "      <td>42</td>\n",
       "      <td>0</td>\n",
       "      <td>1</td>\n",
       "      <td>5</td>\n",
       "      <td>13</td>\n",
       "      <td>3</td>\n",
       "      <td>17.0</td>\n",
       "      <td>3</td>\n",
       "      <td>0</td>\n",
       "    </tr>\n",
       "    <tr>\n",
       "      <th>3</th>\n",
       "      <td>15864</td>\n",
       "      <td>42</td>\n",
       "      <td>0</td>\n",
       "      <td>42</td>\n",
       "      <td>5</td>\n",
       "      <td>13</td>\n",
       "      <td>3</td>\n",
       "      <td>17.0</td>\n",
       "      <td>2</td>\n",
       "      <td>0</td>\n",
       "    </tr>\n",
       "    <tr>\n",
       "      <th>4</th>\n",
       "      <td>15865</td>\n",
       "      <td>9</td>\n",
       "      <td>1</td>\n",
       "      <td>1</td>\n",
       "      <td>5</td>\n",
       "      <td>10</td>\n",
       "      <td>3</td>\n",
       "      <td>12.0</td>\n",
       "      <td>3</td>\n",
       "      <td>0</td>\n",
       "    </tr>\n",
       "    <tr>\n",
       "      <th>...</th>\n",
       "      <td>...</td>\n",
       "      <td>...</td>\n",
       "      <td>...</td>\n",
       "      <td>...</td>\n",
       "      <td>...</td>\n",
       "      <td>...</td>\n",
       "      <td>...</td>\n",
       "      <td>...</td>\n",
       "      <td>...</td>\n",
       "      <td>...</td>\n",
       "    </tr>\n",
       "    <tr>\n",
       "      <th>830</th>\n",
       "      <td>17108</td>\n",
       "      <td>52</td>\n",
       "      <td>1</td>\n",
       "      <td>143</td>\n",
       "      <td>0</td>\n",
       "      <td>3</td>\n",
       "      <td>2</td>\n",
       "      <td>9.0</td>\n",
       "      <td>3</td>\n",
       "      <td>1</td>\n",
       "    </tr>\n",
       "    <tr>\n",
       "      <th>831</th>\n",
       "      <td>17108</td>\n",
       "      <td>52</td>\n",
       "      <td>1</td>\n",
       "      <td>54</td>\n",
       "      <td>0</td>\n",
       "      <td>3</td>\n",
       "      <td>2</td>\n",
       "      <td>9.0</td>\n",
       "      <td>3</td>\n",
       "      <td>1</td>\n",
       "    </tr>\n",
       "    <tr>\n",
       "      <th>832</th>\n",
       "      <td>17108</td>\n",
       "      <td>52</td>\n",
       "      <td>1</td>\n",
       "      <td>116</td>\n",
       "      <td>0</td>\n",
       "      <td>3</td>\n",
       "      <td>2</td>\n",
       "      <td>9.0</td>\n",
       "      <td>2</td>\n",
       "      <td>1</td>\n",
       "    </tr>\n",
       "    <tr>\n",
       "      <th>833</th>\n",
       "      <td>17109</td>\n",
       "      <td>30</td>\n",
       "      <td>1</td>\n",
       "      <td>143</td>\n",
       "      <td>4</td>\n",
       "      <td>0</td>\n",
       "      <td>7</td>\n",
       "      <td>18.0</td>\n",
       "      <td>2</td>\n",
       "      <td>0</td>\n",
       "    </tr>\n",
       "    <tr>\n",
       "      <th>834</th>\n",
       "      <td>17113</td>\n",
       "      <td>70</td>\n",
       "      <td>1</td>\n",
       "      <td>143</td>\n",
       "      <td>4</td>\n",
       "      <td>0</td>\n",
       "      <td>7</td>\n",
       "      <td>18.0</td>\n",
       "      <td>2</td>\n",
       "      <td>0</td>\n",
       "    </tr>\n",
       "  </tbody>\n",
       "</table>\n",
       "<p>789 rows × 10 columns</p>\n",
       "</div>"
      ],
      "text/plain": [
       "       PID  AGE  SEX  DATE  PCM  DGS  EXM   STR  PRK  LB\n",
       "0    15863   46    1     1    5   10    3  12.0    3   0\n",
       "1    15863   46    1    65    5   10    3  12.0    2   0\n",
       "2    15864   42    0     1    5   13    3  17.0    3   0\n",
       "3    15864   42    0    42    5   13    3  17.0    2   0\n",
       "4    15865    9    1     1    5   10    3  12.0    3   0\n",
       "..     ...  ...  ...   ...  ...  ...  ...   ...  ...  ..\n",
       "830  17108   52    1   143    0    3    2   9.0    3   1\n",
       "831  17108   52    1    54    0    3    2   9.0    3   1\n",
       "832  17108   52    1   116    0    3    2   9.0    2   1\n",
       "833  17109   30    1   143    4    0    7  18.0    2   0\n",
       "834  17113   70    1   143    4    0    7  18.0    2   0\n",
       "\n",
       "[789 rows x 10 columns]"
      ]
     },
     "execution_count": 60,
     "metadata": {},
     "output_type": "execute_result"
    }
   ],
   "source": [
    "df"
   ]
  },
  {
   "cell_type": "markdown",
   "id": "92c7b90e",
   "metadata": {},
   "source": [
    "# MACHINE LEARNING ALGORITHMS"
   ]
  },
  {
   "cell_type": "code",
   "execution_count": 61,
   "id": "cb914156-129a-411b-a591-95cab7adb8dd",
   "metadata": {},
   "outputs": [],
   "source": [
    "from sklearn.naive_bayes import GaussianNB\n",
    "from sklearn.neural_network import MLPClassifier\n",
    "from sklearn.tree import DecisionTreeClassifier\n",
    "from sklearn.ensemble import RandomForestClassifier\n",
    "from sklearn.svm import SVC\n",
    "\n",
    "models=[]\n",
    "models.append(('NB',GaussianNB(var_smoothing=1e-01)))\n",
    "models.append(('MLP',MLPClassifier(random_state=43,hidden_layer_sizes=(9,8,7,5),verbose=False,learning_rate_init=0.01,learning_rate='constant',activation='tanh',solver='adam',alpha=0.0001)))\n",
    "models.append(('DT',DecisionTreeClassifier(random_state=43,criterion='entropy',max_depth=1,min_samples_split=2,min_samples_leaf=4)))\n",
    "models.append(('RF',RandomForestClassifier(max_depth=2,n_estimators=10,random_state=43)))\n",
    "models.append(('SVM',SVC(kernel='linear',random_state=7)))"
   ]
  },
  {
   "cell_type": "code",
   "execution_count": 62,
   "id": "53f001c8-37a2-4fa7-8188-81e6fa8b6859",
   "metadata": {},
   "outputs": [
    {
     "name": "stdout",
     "output_type": "stream",
     "text": [
      "BEST PARAMETERS:\n",
      "Naive Bayes {'var_smoothing': 1.0}\n",
      "MLP {'activation': 'relu', 'alpha': 0.05, 'hidden_layer_sizes': (10, 15, 20), 'learning_rate': 'constant', 'solver': 'adam'}\n",
      "Decision Tree {'criterion': 'gini', 'max_depth': 5}\n",
      "Random Forest {'max_depth': 6, 'max_features': 'log2', 'n_estimators': 100}\n",
      "SVM {'C': 0.1, 'gamma': 1, 'kernel': 'sigmoid'}\n"
     ]
    }
   ],
   "source": [
    "from sklearn.naive_bayes import GaussianNB\n",
    "from sklearn.neural_network import MLPClassifier\n",
    "from sklearn.tree import DecisionTreeClassifier\n",
    "from sklearn.ensemble import RandomForestClassifier\n",
    "from sklearn.svm import SVC\n",
    "from sklearn.model_selection import GridSearchCV\n",
    "from sklearn.model_selection import cross_val_score\n",
    "\n",
    "models=[('Naive Bayes',   GaussianNB()),\n",
    "        ('MLP',MLPClassifier()),\n",
    "        ('Decision Tree',DecisionTreeClassifier()),\n",
    "        ('Random Forest',RandomForestClassifier()),\n",
    "        ('SVM',SVC())\n",
    "       ]\n",
    "param_grids=[\n",
    "    {'var_smoothing':np.logspace(0,-9,num=100)},\n",
    "    {'hidden_layer_sizes':[(10,15,20),(10,8,6),(10,)],\n",
    "     'activation':['tanh','relu'],\n",
    "     'solver':['adam'],\n",
    "     'alpha':[0.0001,0.05],\n",
    "     'learning_rate':['constant','adaptive']},\n",
    "    {'max_depth':range(1,7),'criterion':['gini','entropy']},\n",
    "    {'n_estimators':[10,50,100],\n",
    "     'max_features':['sqrt','log2'],\n",
    "     'max_depth':range(1,7)},\n",
    "    {'C':[0.1,10,50],\n",
    "     'gamma':[1,0.1,0.01],\n",
    "     'kernel':['sigmoid','linear']},\n",
    "    {'n_estimators':[10,20,30],'learning_rate':[0.01,0.1,1]},\n",
    "    {'n_estimators':[50,100,200],'learning_rate':[0.01,0.1,1],'max_depth':[3,5,7]}]\n",
    "\n",
    "best_params={}\n",
    "for i,(name,model) in enumerate(models):\n",
    "    grid_search=GridSearchCV(model,param_grids[i],cv=10,scoring='accuracy')\n",
    "    grid_search.fit(X,y)\n",
    "    best_params[name]=grid_search.best_params_\n",
    "print(\"BEST PARAMETERS:\")\n",
    "for key,value in best_params.items():\n",
    "    print(key,value)\n"
   ]
  },
  {
   "cell_type": "code",
   "execution_count": 63,
   "id": "c6e0a41a-4b6a-489c-8113-1ddc838416cf",
   "metadata": {},
   "outputs": [],
   "source": [
    "models=[]\n",
    "models.append(('NB',GaussianNB(var_smoothing=1e-01)))\n",
    "models.append(('MLP',MLPClassifier(random_state=7,hidden_layer_sizes=(9,8,7,5),verbose=False,\n",
    "            learning_rate_init=0.01,learning_rate='constant',activation='tanh',solver='adam',alpha=0.0001)))\n",
    "models.append(('DT',DecisionTreeClassifier(random_state=43,criterion='entropy',max_depth=1,min_samples_split=2,min_samples_leaf=4)))\n",
    "models.append(('RF',RandomForestClassifier(max_depth=2,n_estimators=10,random_state=43)))\n",
    "models.append(('SVM',SVC(kernel='linear',random_state=7)))"
   ]
  },
  {
   "cell_type": "markdown",
   "id": "9001fa66",
   "metadata": {},
   "source": [
    "# base implementation"
   ]
  },
  {
   "cell_type": "markdown",
   "id": "7da07dcf",
   "metadata": {},
   "source": [
    "# 10k-fold\n"
   ]
  },
  {
   "cell_type": "code",
   "execution_count": 64,
   "id": "888224be-fe11-4068-a9ef-3d8c8eaed87c",
   "metadata": {},
   "outputs": [
    {
     "name": "stdout",
     "output_type": "stream",
     "text": [
      "ACCURACY:\n",
      "NB 0.8403278156442713\n",
      "MLP 0.9075624797143785\n",
      "DT 0.8403278156442713\n",
      "RF 0.8885264524505031\n",
      "SVM 0.8403278156442713\n",
      "\n",
      "TIME:\n",
      "NB 0.027532577514648438\n",
      "MLP 2.307307004928589\n",
      "DT 0.03125357627868652\n",
      "RF 0.2098538875579834\n",
      "SVM 0.3690457344055176\n"
     ]
    }
   ],
   "source": [
    "import time\n",
    "accuracy=dict()\n",
    "tt=dict()\n",
    "\n",
    "from sklearn.model_selection import cross_val_score,KFold\n",
    "for name,model in models:\n",
    "    kfold=KFold(n_splits=10)\n",
    "    st=time.time()\n",
    "    acc=cross_val_score(model,X,y,cv=kfold,scoring='accuracy')\n",
    "    et=time.time()\n",
    "    accuracy[name]=(acc.mean())\n",
    "    tt[name]=et-st\n",
    "print(\"ACCURACY:\")\n",
    "for key,value in accuracy.items():\n",
    "    print(key,value)\n",
    "print(\"\\nTIME:\")\n",
    "for key,value in tt.items():\n",
    "    print(key,value)"
   ]
  },
  {
   "cell_type": "markdown",
   "id": "88ef8c7e",
   "metadata": {},
   "source": [
    "# variance and SD"
   ]
  },
  {
   "cell_type": "code",
   "execution_count": 65,
   "id": "098713c5-f05a-4a8e-9453-2bcd6e58400b",
   "metadata": {},
   "outputs": [
    {
     "name": "stdout",
     "output_type": "stream",
     "text": [
      "\n",
      "Variance:\n",
      "NB 0.013332839525603263\n",
      "MLP 0.008527561740187923\n",
      "DT 0.013303646139329526\n",
      "RF 0.009813231645285185\n",
      "SVM 0.01328636207868456\n",
      "\n",
      "Standard Deviation:\n",
      "NB 0.039793134332014486\n",
      "MLP 0.02927518233467207\n",
      "DT 0.039753620583503305\n",
      "RF 0.032534319829051736\n",
      "SVM 0.039681704575161326\n"
     ]
    }
   ],
   "source": [
    "import numpy as np\n",
    "from sklearn.metrics import mean_squared_error\n",
    "from sklearn.model_selection import KFold\n",
    "\n",
    "num_folds=10\n",
    "\n",
    "kf=KFold(n_splits=num_folds,shuffle=True)\n",
    "variances=dict()\n",
    "std_devs=dict()\n",
    "\n",
    "for name,model in models:\n",
    "    fold_variances=[]\n",
    "    fold_std_devs=[]\n",
    "    for fold_num,(train_indices,test_indices) in enumerate(kf.split(X,y)):\n",
    "        model.fit(X[train_indices],y[train_indices])\n",
    "        y_pred=model.predict(X[test_indices])\n",
    "        mse=mean_squared_error(y[test_indices],y_pred)\n",
    "        variance=np.var(y[test_indices]-y_pred)\n",
    "        std_dev=np.sqrt(mse)\n",
    "\n",
    "        fold_variances.append(variance)\n",
    "        fold_std_devs.append(std_dev)\n",
    "    variances[name]=(np.mean(fold_variances))/10\n",
    "    std_devs[name]=(np.mean(fold_std_devs))/10\n",
    "print(\"\\nVariance:\")\n",
    "for key,value in variances.items():\n",
    "    print(key,value)\n",
    "print(\"\\nStandard Deviation:\")\n",
    "for key,value in std_devs.items():\n",
    "    print(key,value)\n"
   ]
  },
  {
   "cell_type": "code",
   "execution_count": 66,
   "id": "4122701b-79ae-4463-a4e4-9906fe07e5e3",
   "metadata": {},
   "outputs": [
    {
     "name": "stderr",
     "output_type": "stream",
     "text": [
      "No artists with labels found to put in legend.  Note that artists whose label start with an underscore are ignored when legend() is called with no argument.\n"
     ]
    },
    {
     "data": {
      "image/png": "[encoded data removed]",
      "text/plain": [
       "<Figure size 400x400 with 1 Axes>"
      ]
     },
     "metadata": {},
     "output_type": "display_data"
    }
   ],
   "source": [
    "variance_colors=['blue','orange','green','red','purple']\n",
    "std_dev_colors=['cyan','magenta','yellow','pink','lightgreen']\n",
    "bar_width=0.35\n",
    "index=np.arange(len(models))\n",
    "fig,ax=plt.subplots(figsize=(4,4))\n",
    "\n",
    "bar1=ax.bar(index-bar_width/2,list(variances.values()),bar_width,color=variance_colors)\n",
    "bar2=ax.bar(index+bar_width/2,list(std_devs.values()),bar_width,color=std_dev_colors)\n",
    "\n",
    "ax.set_xlabel('Model')\n",
    "ax.set_ylabel('Metrics')\n",
    "ax.set_title('Average Variance and Standard Deviation Across Folds')\n",
    "ax.set_xticks(index)\n",
    "ax.set_xticklabels(list(variances.keys()))\n",
    "ax.legend()\n",
    "\n",
    "plt.tight_layout()\n",
    "plt.show()"
   ]
  },
  {
   "cell_type": "markdown",
   "id": "e1f07da7",
   "metadata": {},
   "source": [
    "# 50-50"
   ]
  },
  {
   "cell_type": "code",
   "execution_count": 67,
   "id": "c392f2f4-18c9-439b-b675-96426dde8560",
   "metadata": {},
   "outputs": [
    {
     "name": "stdout",
     "output_type": "stream",
     "text": [
      "Accuracy:\n",
      "NB 0.8430379746835444\n",
      "MLP 0.9164556962025316\n",
      "DT 0.8430379746835444\n",
      "RF 0.8936708860759494\n",
      "SVM 0.8430379746835444\n",
      "\n",
      "TIME:\n",
      "NB 0.0010426044464111328\n",
      "MLP 0.23586320877075195\n",
      "DT 0.0\n",
      "RF 0.015641212463378906\n",
      "SVM 0.01561117172241211\n"
     ]
    }
   ],
   "source": [
    "from sklearn.model_selection import train_test_split,cross_val_score\n",
    "from sklearn import metrics\n",
    "import time\n",
    "accuracy=dict()\n",
    "tt=dict()\n",
    "\n",
    "for name,model in models:\n",
    "    x_train,x_test,y_train,y_test=train_test_split(X,y,test_size=0.50,random_state=43)\n",
    "    st=time.time()\n",
    "    model.fit(x_train,y_train)\n",
    "    y_pred=model.predict(x_test)\n",
    "    et=time.time()\n",
    "    accuracy[name]=metrics.accuracy_score(y_test,y_pred)\n",
    "    tt[name]=et-st\n",
    "    \n",
    "print(\"Accuracy:\")\n",
    "for key,value in accuracy.items():\n",
    "    print(key,value)\n",
    "print(\"\\nTIME:\")\n",
    "for key,value in tt.items():\n",
    "    print(key,value)"
   ]
  },
  {
   "cell_type": "markdown",
   "id": "5d429d70",
   "metadata": {},
   "source": [
    "# 60-40"
   ]
  },
  {
   "cell_type": "code",
   "execution_count": 68,
   "id": "6b103cdf-d426-4143-a24a-dd6a4da8822b",
   "metadata": {},
   "outputs": [
    {
     "name": "stdout",
     "output_type": "stream",
     "text": [
      "Accuracy:\n",
      "NB 0.8291139240506329\n",
      "MLP 0.8892405063291139\n",
      "DT 0.8291139240506329\n",
      "RF 0.8924050632911392\n",
      "SVM 0.8291139240506329\n",
      "\n",
      "TIME:\n",
      "NB 0.0017273426055908203\n",
      "MLP 0.10289478302001953\n",
      "DT 0.0\n",
      "RF 0.01687932014465332\n",
      "SVM 0.015751361846923828\n"
     ]
    }
   ],
   "source": [
    "from sklearn.model_selection import train_test_split,cross_val_score\n",
    "from sklearn import metrics\n",
    "import time\n",
    "accuracy=dict()\n",
    "tt=dict()\n",
    "\n",
    "for name,model in models:\n",
    "    x_train,x_test,y_train,y_test=train_test_split(X,y,test_size=0.40,random_state=7)\n",
    "    st=time.time()\n",
    "    model.fit(x_train,y_train)\n",
    "    y_pred=model.predict(x_test)\n",
    "    et=time.time()\n",
    "    accuracy[name]=metrics.accuracy_score(y_test,y_pred)\n",
    "    tt[name]=et-st\n",
    "print(\"Accuracy:\")\n",
    "for key,value in accuracy.items():\n",
    "    print(key,value)\n",
    "print(\"\\nTIME:\")\n",
    "for key,value in tt.items():\n",
    "    print(key,value)"
   ]
  },
  {
   "cell_type": "markdown",
   "id": "5ad90171",
   "metadata": {},
   "source": [
    "# 70-30"
   ]
  },
  {
   "cell_type": "code",
   "execution_count": 69,
   "id": "b89ad5c9-1a4d-4899-9cc7-1b1cb59e7b74",
   "metadata": {},
   "outputs": [
    {
     "name": "stdout",
     "output_type": "stream",
     "text": [
      "ACCURACY:\n",
      "NB 0.8270042194092827\n",
      "MLP 0.9071729957805907\n",
      "DT 0.8270042194092827\n",
      "RF 0.890295358649789\n",
      "SVM 0.8270042194092827\n",
      "\n",
      "Time:\n",
      "NB 0.0020041465759277344\n",
      "MLP 0.1519918441772461\n",
      "DT 0.01715683937072754\n",
      "RF 0.024686336517333984\n",
      "SVM 0.025636672973632812\n"
     ]
    }
   ],
   "source": [
    "from sklearn.model_selection import train_test_split,cross_val_score\n",
    "from sklearn import metrics\n",
    "from sklearn.metrics import confusion_matrix\n",
    "from sklearn.metrics import ConfusionMatrixDisplay\n",
    "from sklearn.metrics import classification_report\n",
    "import time\n",
    "accuracy=dict()\n",
    "tt=dict()\n",
    "\n",
    "for name,model in models:\n",
    "    x_train,x_test,y_train,y_test=train_test_split(X,y,test_size=0.30,random_state=7)\n",
    "    st=time.time()\n",
    "    model.fit(x_train,y_train)\n",
    "    y_pred=model.predict(x_test)\n",
    "    et=time.time()\n",
    "    accuracy[name]=metrics.accuracy_score(y_test,y_pred)\n",
    "    tt[name]=et-st\n",
    "print(\"ACCURACY:\")\n",
    "for key,value in accuracy.items():\n",
    "    print(key,value)\n",
    "print(\"\\nTime:\")\n",
    "for key,value in tt.items():\n",
    "    print(key,value)"
   ]
  },
  {
   "cell_type": "markdown",
   "id": "5e131339",
   "metadata": {},
   "source": [
    "# 80-20"
   ]
  },
  {
   "cell_type": "code",
   "execution_count": 70,
   "id": "638b06e0-4d6d-40b0-9937-ddd173217746",
   "metadata": {},
   "outputs": [
    {
     "name": "stdout",
     "output_type": "stream",
     "text": [
      "Accuracy:\n",
      "NB 0.8037974683544303\n",
      "MLP 0.8924050632911392\n",
      "DT 0.8037974683544303\n",
      "RF 0.8037974683544303\n",
      "SVM 0.8037974683544303\n",
      "\n",
      "PRECISION:\n",
      "NB 0.6460903701329914\n",
      "MLP 0.8871426097361294\n",
      "DT 0.6460903701329914\n",
      "RF 0.6460903701329914\n",
      "SVM 0.6460903701329914\n",
      "\n",
      "Recall:\n",
      "NB 0.8037974683544303\n",
      "MLP 0.8924050632911392\n",
      "DT 0.8037974683544303\n",
      "RF 0.8037974683544303\n",
      "SVM 0.8037974683544303\n",
      "\n",
      "F1 Score:\n",
      "NB 0.0\n",
      "MLP 0.6909090909090909\n",
      "DT 0.0\n",
      "RF 0.0\n",
      "SVM 0.0\n",
      "\n",
      "ROC:\n",
      "NB 0.5\n",
      "MLP 0.786766573533147\n",
      "DT 0.5\n",
      "RF 0.5\n",
      "SVM 0.5\n",
      "\n",
      "Time:\n",
      "NB 0.0034008026123046875\n",
      "MLP 0.14096784591674805\n",
      "DT 0.0020034313201904297\n",
      "RF 0.01685786247253418\n",
      "SVM 0.03205108642578125\n"
     ]
    }
   ],
   "source": [
    "from sklearn.model_selection import train_test_split,cross_val_score\n",
    "from sklearn import metrics\n",
    "from sklearn.metrics import confusion_matrix\n",
    "from sklearn.metrics import ConfusionMatrixDisplay\n",
    "from sklearn.metrics import classification_report\n",
    "from sklearn.metrics import roc_curve,auc\n",
    "import time\n",
    "accuracy=dict()\n",
    "precision=dict()\n",
    "recall=dict()\n",
    "f1score=dict()\n",
    "roc=dict()\n",
    "tt=dict()\n",
    "\n",
    "for name,model in models:\n",
    "    x_train,x_test,y_train,y_test=train_test_split(X,y,test_size=0.20,random_state=7)\n",
    "    st=time.time()\n",
    "    model.fit(x_train,y_train)\n",
    "    y_pred=model.predict(x_test)\n",
    "    et=time.time()\n",
    "    accuracy[name]=metrics.accuracy_score(y_test,y_pred)\n",
    "    precision[name]=metrics.precision_score(y_test,y_pred,average='weighted')\n",
    "    f1score[name]=metrics.f1_score(y_test,y_pred)\n",
    "    recall[name]=metrics.recall_score(y_test,y_pred,average='weighted')\n",
    "    fpr,tpr,_=roc_curve(y_test,y_pred,sample_weight=None,drop_intermediate=False)\n",
    "    roc[name]=auc(fpr,tpr)\n",
    "    tt[name]=et-st\n",
    "print(\"Accuracy:\")\n",
    "for key,value in accuracy.items():\n",
    "    print(key,value)\n",
    "print(\"\\nPRECISION:\")\n",
    "for key,value in precision.items():\n",
    "    print(key,value)\n",
    "print(\"\\nRecall:\")\n",
    "for key,value in recall.items():\n",
    "    print(key,value)\n",
    "print(\"\\nF1 Score:\")\n",
    "for key,value in f1score.items():\n",
    "    print(key,value)\n",
    "print(\"\\nROC:\")\n",
    "for key,value in roc.items():\n",
    "    print(key,value)\n",
    "print(\"\\nTime:\")\n",
    "for key,value in tt.items():\n",
    "    print(key,value)"
   ]
  },
  {
   "cell_type": "markdown",
   "id": "07fa97f8",
   "metadata": {},
   "source": [
    "# VOTING IMPLEMENTATION"
   ]
  },
  {
   "cell_type": "code",
   "execution_count": 71,
   "id": "d9d77d0a-d32c-4a77-8aa6-95597b888be0",
   "metadata": {},
   "outputs": [],
   "source": [
    "from sklearn.ensemble import VotingClassifier\n",
    "nb1=GaussianNB()\n",
    "nb2=GaussianNB()\n",
    "nb3=GaussianNB()\n",
    "voting_clfnb=VotingClassifier(estimators=[('naivebayes1',nb1),('naivebayes2',nb2),('naivebayes3',nb3)],voting='hard')"
   ]
  },
  {
   "cell_type": "code",
   "execution_count": 72,
   "id": "c64fb518-1ff5-489a-82c5-9ebab1725849",
   "metadata": {},
   "outputs": [],
   "source": [
    "mlp1=MLPClassifier(hidden_layer_sizes=(8,7),random_state=7,verbose=False,max_iter=500)\n",
    "mlp2=MLPClassifier(hidden_layer_sizes=(9,8),random_state=7,verbose=False,max_iter=500)\n",
    "\n",
    "voting_clfmlp=VotingClassifier(estimators=[('multilp1',mlp1),('multilp2',mlp2)],voting='soft')"
   ]
  },
  {
   "cell_type": "code",
   "execution_count": 73,
   "id": "be0b7ecd",
   "metadata": {},
   "outputs": [],
   "source": [
    "clf1=DecisionTreeClassifier(criterion='entropy',max_depth=1)\n",
    "clf2=DecisionTreeClassifier(criterion='entropy',max_depth=2)\n",
    "\n",
    "voting_clfdt=VotingClassifier(estimators=[('clf1',clf1),('clf2',clf2)],voting='soft')"
   ]
  },
  {
   "cell_type": "code",
   "execution_count": 74,
   "id": "a95e0b16",
   "metadata": {},
   "outputs": [],
   "source": [
    "rfc1=RandomForestClassifier(n_estimators=15,max_depth=5,random_state=42)\n",
    "rfc2=RandomForestClassifier(n_estimators=10,max_depth=8,random_state=42)\n",
    "rfc3=RandomForestClassifier(n_estimators=15,max_depth=6,random_state=42)\n",
    "\n",
    "voting_clfrf=VotingClassifier(estimators=[('rf1',rfc1),('rf2',rfc2),('rf3',rfc3)],voting='hard')"
   ]
  },
  {
   "cell_type": "code",
   "execution_count": 75,
   "id": "c4c1efb2",
   "metadata": {},
   "outputs": [],
   "source": [
    "svm1=SVC(kernel='sigmoid',C=20,gamma=0.01)\n",
    "svm2=SVC(kernel='rbf',C=20,gamma=0.01)\n",
    "svm3=SVC(kernel='poly',C=20,gamma=0.01)\n",
    "\n",
    "voting_clfsvm=VotingClassifier(estimators=[('svm1',svm1),('svm2',svm2),('svm3',svm3)],voting='hard')"
   ]
  },
  {
   "cell_type": "code",
   "execution_count": 76,
   "id": "c952432e",
   "metadata": {},
   "outputs": [],
   "source": [
    "votingmodel=[]\n",
    "\n",
    "votingmodel.append(('MLP',VotingClassifier(estimators=[('multilp1',mlp1),('multilp2',mlp2)],voting='hard')))\n",
    "votingmodel.append(('DT',VotingClassifier(estimators=[('clf1',clf1),('clf2',clf2)],voting='soft')))\n",
    "votingmodel.append(('RF',VotingClassifier(estimators=[('rf1',rfc1),('rf2',rfc2),('rf3',rfc3)],voting='hard')))\n",
    "votingmodel.append(('SVC',VotingClassifier(estimators=[('svm1',svm1),('svm2',svm2),('svm3',svm3)],voting='hard')))"
   ]
  },
  {
   "cell_type": "markdown",
   "id": "c9078b74",
   "metadata": {},
   "source": [
    "# 10(k)-fold"
   ]
  },
  {
   "cell_type": "code",
   "execution_count": 77,
   "id": "5e185038",
   "metadata": {},
   "outputs": [
    {
     "name": "stdout",
     "output_type": "stream",
     "text": [
      "Voting(10-fold)-NB 0.8955549209975253\n",
      "Voting(10-fold)-MLP 0.916990291262136\n",
      "Voting(10-fold)-DT 0.9092137826004189\n",
      "Voting(10-fold)-RF 0.9209594517418619\n",
      "Voting(10-fold)-SVC 0.9101751380163717\n"
     ]
    }
   ],
   "source": [
    "from sklearn.datasets import make_classification\n",
    "from sklearn.model_selection import KFold\n",
    "def votingclffold(voting_clf):\n",
    "    x,y=make_classification(n_samples=1024,n_features=14,random_state=7)\n",
    "    kfold=KFold(n_splits=10,shuffle=True,random_state=7)\n",
    "    scores=cross_val_score(voting_clf,x,y,cv=kfold)\n",
    "    accuracy=scores.mean()\n",
    "    return accuracy\n",
    "    \n",
    "print(\"Voting(10-fold)-NB\",votingclffold(voting_clfnb))\n",
    "print(\"Voting(10-fold)-MLP\",votingclffold(voting_clfmlp))\n",
    "print(\"Voting(10-fold)-DT\",votingclffold(voting_clfdt))\n",
    "print(\"Voting(10-fold)-RF\",votingclffold(voting_clfrf))\n",
    "print(\"Voting(10-fold)-SVC\",votingclffold(voting_clfsvm))"
   ]
  },
  {
   "cell_type": "markdown",
   "id": "40368156",
   "metadata": {},
   "source": [
    "# 50-50"
   ]
  },
  {
   "cell_type": "code",
   "execution_count": 78,
   "id": "aae99f8e",
   "metadata": {},
   "outputs": [],
   "source": [
    "#x_train"
   ]
  },
  {
   "cell_type": "code",
   "execution_count": 79,
   "id": "a5af0c10",
   "metadata": {},
   "outputs": [
    {
     "data": {
      "text/plain": [
       "(394, 4)"
      ]
     },
     "execution_count": 79,
     "metadata": {},
     "output_type": "execute_result"
    }
   ],
   "source": [
    "x_train,x_test,y_train,y_test=train_test_split(X,y,test_size=0.5,random_state=42)\n",
    "traindf=pd.DataFrame(x_train)\n",
    "traindf.shape"
   ]
  },
  {
   "cell_type": "code",
   "execution_count": 80,
   "id": "6b0f8bb3",
   "metadata": {},
   "outputs": [
    {
     "name": "stdout",
     "output_type": "stream",
     "text": [
      "Voting(50-50)-NB 0.8075949367088607\n"
     ]
    }
   ],
   "source": [
    "from sklearn.naive_bayes import GaussianNB\n",
    "\n",
    "nb1=GaussianNB()\n",
    "nb2=GaussianNB()\n",
    "x_train_df=pd.DataFrame(x_train)\n",
    "x_test_df=pd.DataFrame(x_test)\n",
    "nb1.fit(x_train_df.iloc[:100],y_train[:100])\n",
    "nb2.fit(x_train_df.iloc[100:230],y_train[100:230])\n",
    "nb3.fit(x_train_df.iloc[230:935],y_train[230:935])\n",
    "ensemble=VotingClassifier(estimators=[('nb1',nb1),('nb2',nb2)],voting='hard')\n",
    "ensemble.fit(x_train_df,y_train)\n",
    "accuracy=ensemble.score(x_test,y_test)\n",
    "print(\"Voting(50-50)-NB\",(accuracy))"
   ]
  },
  {
   "cell_type": "code",
   "execution_count": 81,
   "id": "845c8467",
   "metadata": {},
   "outputs": [
    {
     "name": "stdout",
     "output_type": "stream",
     "text": [
      "Voting(50-50)- MLP 0.8430379746835444\n",
      "Voting(50-50)- DT 0.9164556962025316\n",
      "Voting(50-50)- RF 0.9367088607594937\n",
      "Voting(50-50)- SVC 0.8658227848101265\n"
     ]
    }
   ],
   "source": [
    "from sklearn.ensemble import VotingClassifier\n",
    "from sklearn.metrics import accuracy_score\n",
    "\n",
    "def votingclf_fiftysplit(voting_clf):\n",
    "    x_train,x_test,y_train,y_test=train_test_split(X,y,test_size=0.5,random_state=7)\n",
    "    voting_clf.fit(x_train,y_train)\n",
    "    y_pred=voting_clf.predict(x_test)\n",
    "    accuracy=accuracy_score(y_test,y_pred)\n",
    "    return accuracy\n",
    "\n",
    "for estimator in votingmodel:\n",
    "    print(\"Voting(50-50)-\",estimator[0],votingclf_fiftysplit(estimator[1]))"
   ]
  },
  {
   "cell_type": "markdown",
   "id": "1c4c9f88",
   "metadata": {},
   "source": [
    "# 60-40"
   ]
  },
  {
   "cell_type": "code",
   "execution_count": 82,
   "id": "e2f2d726",
   "metadata": {},
   "outputs": [
    {
     "data": {
      "text/plain": [
       "(473, 4)"
      ]
     },
     "execution_count": 82,
     "metadata": {},
     "output_type": "execute_result"
    }
   ],
   "source": [
    "x_train,x_test,y_train,y_test=train_test_split(X,y,test_size=0.4,random_state=7)\n",
    "traindf=pd.DataFrame(x_train)\n",
    "traindf.shape"
   ]
  },
  {
   "cell_type": "code",
   "execution_count": 83,
   "id": "46e32fde",
   "metadata": {},
   "outputs": [
    {
     "name": "stdout",
     "output_type": "stream",
     "text": [
      "Voting(60-40)-NB 0.8291139240506329\n"
     ]
    }
   ],
   "source": [
    "nb1=GaussianNB()\n",
    "nb2=GaussianNB()\n",
    "x_train_df=pd.DataFrame(x_train)\n",
    "x_test_df=pd.DataFrame(x_test)\n",
    "nb1.fit(x_train_df.iloc[:150],y_train[:150])\n",
    "nb2.fit(x_train_df.iloc[150:300],y_train[150:300])\n",
    "nb3.fit(x_train_df.iloc[300:474],y_train[300:474])\n",
    "ensemble=VotingClassifier(estimators=[('nb1',nb1),('nb2',nb2),('nb3',nb3)],voting='hard')\n",
    "ensemble.fit(x_train_df,y_train)\n",
    "accuracy=ensemble.score(x_test,y_test)\n",
    "print(\"Voting(60-40)-NB\",(accuracy))"
   ]
  },
  {
   "cell_type": "code",
   "execution_count": 84,
   "id": "226f18a6",
   "metadata": {},
   "outputs": [
    {
     "name": "stdout",
     "output_type": "stream",
     "text": [
      "Voting(60-40)- MLP 0.8291139240506329\n",
      "Voting(60-40)- DT 0.9113924050632911\n",
      "Voting(60-40)- RF 0.9335443037974683\n",
      "Voting(60-40)- SVC 0.8607594936708861\n"
     ]
    }
   ],
   "source": [
    "def votingclf_sixtysplit(voting_clf):\n",
    "    x_train,x_tets,y_train,y_test=train_test_split(X,y,test_size=0.40,random_state=7)\n",
    "    voting_clf.fit(x_train,y_train)\n",
    "    y_pred=voting_clf.predict(x_test)\n",
    "    accuracy=accuracy_score(y_test,y_pred)\n",
    "    return accuracy\n",
    "\n",
    "for estimator in votingmodel:\n",
    "    print(\"Voting(60-40)-\",estimator[0],votingclf_sixtysplit(estimator[1]))"
   ]
  },
  {
   "cell_type": "markdown",
   "id": "b9209f86",
   "metadata": {},
   "source": [
    "# 70-30"
   ]
  },
  {
   "cell_type": "code",
   "execution_count": 85,
   "id": "21277ae9",
   "metadata": {},
   "outputs": [
    {
     "data": {
      "text/plain": [
       "(552, 4)"
      ]
     },
     "execution_count": 85,
     "metadata": {},
     "output_type": "execute_result"
    }
   ],
   "source": [
    "x_train,x_test,y_train,y_test=train_test_split(X,y,test_size=0.3,random_state=7)\n",
    "traindf=pd.DataFrame(x_train)\n",
    "traindf.shape"
   ]
  },
  {
   "cell_type": "code",
   "execution_count": 86,
   "id": "ada297c6",
   "metadata": {},
   "outputs": [
    {
     "name": "stdout",
     "output_type": "stream",
     "text": [
      "Voting(70-30)-NB 0.8270042194092827\n"
     ]
    }
   ],
   "source": [
    "from sklearn.metrics import accuracy_score\n",
    "nb1=GaussianNB()\n",
    "nb2=GaussianNB()\n",
    "x_train_df=pd.DataFrame(x_train)\n",
    "x_test_df=pd.DataFrame(x_test)\n",
    "nb1.fit(x_train_df.iloc[:200],y_train[:200])\n",
    "nb2.fit(x_train_df.iloc[200:350],y_train[200:350])\n",
    "nb3.fit(x_train_df.iloc[350:553],y_train[350:553])\n",
    "ensemble=VotingClassifier(estimators=[('nb1',nb1),('nb2',nb2),('nb3',nb3)],voting='hard')\n",
    "ensemble.fit(x_train,y_train)\n",
    "y_pred=ensemble.predict(x_test)\n",
    "accuracy=accuracy_score(y_test,y_pred)\n",
    "\n",
    "print(\"Voting(70-30)-NB\",(accuracy))"
   ]
  },
  {
   "cell_type": "code",
   "execution_count": 87,
   "id": "8e1b0766",
   "metadata": {},
   "outputs": [
    {
     "name": "stdout",
     "output_type": "stream",
     "text": [
      "Voting(60-40)- MLP 0.8396624472573839\n",
      "Voting(60-40)- DT 0.8649789029535865\n",
      "Voting(60-40)- RF 0.9493670886075949\n",
      "Voting(60-40)- SVC 0.869198312236287\n"
     ]
    }
   ],
   "source": [
    "def votingclf_seventysplit(voting_clf):\n",
    "    x_train,x_tets,y_train,y_test=train_test_split(X,y,test_size=0.30,random_state=7)\n",
    "    voting_clf.fit(x_train,y_train)\n",
    "    y_pred=voting_clf.predict(x_test)\n",
    "    accuracy=accuracy_score(y_test,y_pred)\n",
    "    return accuracy\n",
    "\n",
    "for estimator in votingmodel:\n",
    "    print(\"Voting(60-40)-\",estimator[0],votingclf_seventysplit(estimator[1]))"
   ]
  },
  {
   "cell_type": "markdown",
   "id": "18275006",
   "metadata": {},
   "source": [
    "# 80-20"
   ]
  },
  {
   "cell_type": "code",
   "execution_count": 88,
   "id": "ba591776",
   "metadata": {},
   "outputs": [
    {
     "data": {
      "text/plain": [
       "(631, 4)"
      ]
     },
     "execution_count": 88,
     "metadata": {},
     "output_type": "execute_result"
    }
   ],
   "source": [
    "x_train,x_test,y_train,y_test=train_test_split(X,y,test_size=0.20,random_state=43)\n",
    "traindf=pd.DataFrame(x_train)\n",
    "traindf.shape"
   ]
  },
  {
   "cell_type": "code",
   "execution_count": 89,
   "id": "88e5d56a",
   "metadata": {},
   "outputs": [
    {
     "name": "stdout",
     "output_type": "stream",
     "text": [
      "Voting(80-20)-NB accuracy 0.8354430379746836\n",
      "Voting(80-20)-NB Precision 0.8354430379746836\n",
      "Voting(80-20)-NB F1 score 0.0\n",
      "Voting(80-20)-NB recall 0.8354430379746836\n",
      "Voting(80-20)-NB ROC Measure 0.5\n"
     ]
    }
   ],
   "source": [
    "nb1=GaussianNB()\n",
    "nb2=GaussianNB()\n",
    "nb3=GaussianNB()\n",
    "x_train_df=pd.DataFrame(x_train)\n",
    "x_test_df=pd.DataFrame(x_test)\n",
    "nb1.fit(x_train_df.iloc[:200],y_train[:200])\n",
    "nb2.fit(x_train_df.iloc[200:450],y_train[200:450])\n",
    "nb3.fit(x_train_df.iloc[450:632],y_train[450:632])\n",
    "ensemble=VotingClassifier(estimators=[('nb1',nb1),('nb2',nb2),('nb3',nb3)],voting='hard')\n",
    "ensemble.fit(x_train_df,y_train)\n",
    "accuracy=ensemble.score(x_test,y_test)\n",
    "y_pred=ensemble.predict(x_test_df)\n",
    "fpr,tpr,_=roc_curve(y_test,y_pred)\n",
    "rocc=auc(fpr,tpr)\n",
    "print(\"Voting(80-20)-NB accuracy\",(accuracy))\n",
    "print(\"Voting(80-20)-NB Precision\",(metrics.precision_score(y_test,y_pred,average='micro')))\n",
    "print(\"Voting(80-20)-NB F1 score\",(metrics.f1_score(y_test,y_pred)))\n",
    "print(\"Voting(80-20)-NB recall\",(metrics.recall_score(y_test,y_pred,average='weighted')))\n",
    "print(\"Voting(80-20)-NB ROC Measure\",(rocc))"
   ]
  },
  {
   "cell_type": "code",
   "execution_count": 90,
   "id": "bff6f4fb",
   "metadata": {},
   "outputs": [
    {
     "name": "stdout",
     "output_type": "stream",
     "text": [
      "\n",
      "ACCURACY\n",
      "Voting(80-20)- MLP 0.8354430379746836\n",
      "Voting(80-20)- DT 0.8354430379746836\n",
      "Voting(80-20)- RF 0.8354430379746836\n",
      "Voting(80-20)- SVC 0.8354430379746836\n",
      "\n",
      "PRECISION\n",
      "Voting(80-20)- MLP 0.0\n",
      "Voting(80-20)- DT 0.9333333333333333\n",
      "Voting(80-20)- RF 0.9090909090909091\n",
      "Voting(80-20)- SVC 0.8\n",
      "\n",
      "F1 SCORE\n",
      "Voting(80-20)- MLP 0.0\n",
      "Voting(80-20)- DT 0.6829268292682927\n",
      "Voting(80-20)- RF 0.8333333333333334\n",
      "Voting(80-20)- SVC 0.25806451612903225\n",
      "\n",
      "RECALL\n",
      "Voting(80-20)- MLP 0.0\n",
      "Voting(80-20)- DT 0.5384615384615384\n",
      "Voting(80-20)- RF 0.7692307692307693\n",
      "Voting(80-20)- SVC 0.15384615384615385\n",
      "\n",
      "ROC\n",
      "Voting(80-20)- MLP 0.5\n",
      "Voting(80-20)- DT 0.7654428904428904\n",
      "Voting(80-20)- RF 0.877039627039627\n",
      "Voting(80-20)- SVC 0.5731351981351981\n"
     ]
    }
   ],
   "source": [
    "from sklearn.metrics import accuracy_score\n",
    "def votingclf_eightysplit_acc(voting_clf):\n",
    "    x_train,x_test,y_train,y_test=train_test_split(X,y,test_size=0.2,random_state=43)\n",
    "    voting_clf.fit(x_train,y_train)\n",
    "    y_pred=voting_clf.predict(x_test)\n",
    "    accurcay=accuracy_score(y_test,y_pred)\n",
    "    return accuracy\n",
    "\n",
    "print(\"\\nACCURACY\")\n",
    "for estimator in votingmodel:\n",
    "    print(\"Voting(80-20)-\",estimator[0],votingclf_eightysplit_acc(estimator[1]))\n",
    "    \n",
    "def votingclf_eightysplit_pre(voting_clf):\n",
    "    x_train,x_test,y_train,y_test=train_test_split(X,y,test_size=0.2,random_state=43)\n",
    "    voting_clf.fit(x_train,y_train)\n",
    "    y_pred=voting_clf.predict(x_test)\n",
    "    precision=metrics.precision_score(y_test,y_pred)\n",
    "    return precision\n",
    "\n",
    "print(\"\\nPRECISION\")\n",
    "for estimator in votingmodel:\n",
    "    print(\"Voting(80-20)-\",estimator[0],votingclf_eightysplit_pre(estimator[1]))\n",
    "    \n",
    "def votingclf_eightysplit_f1(voting_clf):\n",
    "    x_train,x_test,y_train,y_test=train_test_split(X,y,test_size=0.2,random_state=43)\n",
    "    voting_clf.fit(x_train,y_train)\n",
    "    y_pred=voting_clf.predict(x_test)\n",
    "    f1=metrics.f1_score(y_test,y_pred)\n",
    "    return f1\n",
    "\n",
    "print(\"\\nF1 SCORE\")\n",
    "for estimator in votingmodel:\n",
    "    print(\"Voting(80-20)-\",estimator[0],votingclf_eightysplit_f1(estimator[1]))\n",
    "    \n",
    "def votingclf_eightysplit_rec(voting_clf):\n",
    "    x_train,x_test,y_train,y_test=train_test_split(X,y,test_size=0.2,random_state=43)\n",
    "    voting_clf.fit(x_train,y_train)\n",
    "    y_pred=voting_clf.predict(x_test)\n",
    "    recall=metrics.recall_score(y_test,y_pred)\n",
    "    return recall\n",
    "\n",
    "print('\\nRECALL')\n",
    "for estimator in votingmodel:\n",
    "    print(\"Voting(80-20)-\",estimator[0],votingclf_eightysplit_rec(estimator[1]))\n",
    "    \n",
    "def votingclf_eightysplit_roc(voting_clf):\n",
    "    x_train,x_test,y_train,y_test=train_test_split(X,y,test_size=0.2,random_state=43)\n",
    "    voting_clf.fit(x_train,y_train)\n",
    "    y_pred=voting_clf.predict(x_test)\n",
    "    fpr,tpr,_=roc_curve(y_test,y_pred)\n",
    "    rocc=auc(fpr,tpr)\n",
    "    return rocc\n",
    "\n",
    "print(\"\\nROC\")\n",
    "for estimator in votingmodel:\n",
    "    print(\"Voting(80-20)-\",estimator[0],votingclf_eightysplit_roc(estimator[1]))"
   ]
  },
  {
   "cell_type": "markdown",
   "id": "91fed4e9",
   "metadata": {},
   "source": [
    "# BAGGING IMPLEMENTATION"
   ]
  },
  {
   "cell_type": "code",
   "execution_count": 91,
   "id": "7bbdad76",
   "metadata": {},
   "outputs": [],
   "source": [
    "from sklearn.model_selection import cross_val_score\n",
    "from sklearn.ensemble import BaggingClassifier\n",
    "\n",
    "models=[]\n",
    "models.append(('NB',GaussianNB(var_smoothing=1e-01)))\n",
    "models.append(('MLP',MLPClassifier(random_state=7,hidden_layer_sizes=(9,8,7,5),verbose=False,learning_rate_init=0.01,\n",
    "                                  learning_rate='constant',activation='tanh',solver='adam',alpha=0.0001)))\n",
    "models.append(('DT',DecisionTreeClassifier(random_state=7,criterion='entropy',max_depth=4)))\n",
    "models.append(('RF',RandomForestClassifier(n_estimators=200,max_features=4,random_state=7)))\n",
    "models.append(('SVM',SVC(kernel='linear',random_state=7)))"
   ]
  },
  {
   "cell_type": "markdown",
   "id": "2c9ba33d",
   "metadata": {},
   "source": [
    "# 10(k)-fold"
   ]
  },
  {
   "cell_type": "code",
   "execution_count": 92,
   "id": "ae668bc1",
   "metadata": {},
   "outputs": [
    {
     "name": "stdout",
     "output_type": "stream",
     "text": [
      "bagging(10-fold)- NB 0.8403440441415124\n",
      "bagging(10-fold)- MLP 0.904998377150276\n",
      "bagging(10-fold)- DT 0.9695715676728336\n",
      "bagging(10-fold)- RF 0.9556475170399221\n",
      "bagging(10-fold)- SVM 0.8402304446608244\n"
     ]
    }
   ],
   "source": [
    "for estimator in models:\n",
    "    bagging_clf=BaggingClassifier(estimator[1],n_estimators=15,max_features=3,max_samples=100,bootstrap=True,random_state=42)\n",
    "    kf=KFold(n_splits=10,shuffle=True)\n",
    "    all_predictions=[]\n",
    "    for train_index,test_index in kf.split(X):\n",
    "        x_train,x_test=X[train_index],X[test_index]\n",
    "        y_train,y_test=y[train_index],y[test_index]\n",
    "        \n",
    "        bagging_clf.fit(x_train,y_train)\n",
    "        predictions=bagging_clf.predict(x_test)\n",
    "        all_predictions.append(metrics.accuracy_score(y_test,predictions))\n",
    "    final_predictions=np.mean(all_predictions,axis=0)\n",
    "    print(\"bagging(10-fold)-\",estimator[0],final_predictions)"
   ]
  },
  {
   "cell_type": "markdown",
   "id": "4ceeea94",
   "metadata": {},
   "source": [
    "# 50-50"
   ]
  },
  {
   "cell_type": "code",
   "execution_count": 93,
   "id": "a8cca4b0",
   "metadata": {},
   "outputs": [
    {
     "name": "stdout",
     "output_type": "stream",
     "text": [
      "Bagging(50-50)- NB 0.8430379746835444\n",
      "Bagging(50-50)- MLP 0.9139240506329114\n",
      "Bagging(50-50)- DT 0.9746835443037974\n",
      "Bagging(50-50)- RF 0.9392405063291139\n",
      "Bagging(50-50)- SVM 0.8430379746835444\n"
     ]
    }
   ],
   "source": [
    "x_train,x_test,y_train,y_test=train_test_split(X,y,test_size=0.5,random_state=43)\n",
    "for estimator in models:\n",
    "    bagging_clf=BaggingClassifier(estimator[1],n_estimators=15,max_features=3,max_samples=100,bootstrap=True,random_state=42)\n",
    "    bagging_clf.fit(x_train,y_train)\n",
    "    y_pred=bagging_clf.predict(x_test)\n",
    "    accuracy=metrics.accuracy_score(y_test,y_pred)\n",
    "    print(\"Bagging(50-50)-\",estimator[0],accuracy)"
   ]
  },
  {
   "cell_type": "markdown",
   "id": "d11cc4fa",
   "metadata": {},
   "source": [
    "# 60-40"
   ]
  },
  {
   "cell_type": "code",
   "execution_count": 94,
   "id": "f80b5f1a",
   "metadata": {},
   "outputs": [
    {
     "name": "stdout",
     "output_type": "stream",
     "text": [
      "Bagging(60-40)- NB 0.8417721518987342\n",
      "Bagging(60-40)- MLP 0.8829113924050633\n",
      "Bagging(60-40)- DT 0.9715189873417721\n",
      "Bagging(60-40)- RF 0.9335443037974683\n",
      "Bagging(60-40)- SVM 0.8417721518987342\n"
     ]
    }
   ],
   "source": [
    "x_train,x_test,y_train,y_test=train_test_split(X,y,test_size=0.4,random_state=43)\n",
    "for estimator in models:\n",
    "    bagging_clf=BaggingClassifier(estimator[1],n_estimators=15,max_samples=100,bootstrap=True,random_state=42)\n",
    "    bagging_clf.fit(x_train,y_train)\n",
    "    y_pred=bagging_clf.predict(x_test)\n",
    "    accuracy=metrics.accuracy_score(y_test,y_pred)\n",
    "    print(\"Bagging(60-40)-\",estimator[0],accuracy)"
   ]
  },
  {
   "cell_type": "markdown",
   "id": "f74df3c3",
   "metadata": {},
   "source": [
    "# 70-30"
   ]
  },
  {
   "cell_type": "code",
   "execution_count": 95,
   "id": "c36c6d51",
   "metadata": {},
   "outputs": [
    {
     "name": "stdout",
     "output_type": "stream",
     "text": [
      "Bagging(70-30)- NB 0.8312236286919831\n",
      "Bagging(70-30)- MLP 0.890295358649789\n",
      "Bagging(70-30)- DT 0.9704641350210971\n",
      "Bagging(70-30)- RF 0.9409282700421941\n",
      "Bagging(70-30)- SVM 0.8312236286919831\n"
     ]
    }
   ],
   "source": [
    "x_train,x_test,y_train,y_test=train_test_split(X,y,test_size=0.3,random_state=43)\n",
    "for estimator in models:\n",
    "    bagging_clf=BaggingClassifier(estimator[1],n_estimators=15,max_features=3,max_samples=100,bootstrap=True,random_state=42)\n",
    "    bagging_clf.fit(x_train,y_train)\n",
    "    y_pred=bagging_clf.predict(x_test)\n",
    "    accuracy=metrics.accuracy_score(y_test,y_pred)\n",
    "    print(\"Bagging(70-30)-\",estimator[0],accuracy)"
   ]
  },
  {
   "cell_type": "markdown",
   "id": "65fbf19b",
   "metadata": {},
   "source": [
    "# 80-20 "
   ]
  },
  {
   "cell_type": "code",
   "execution_count": 96,
   "id": "fcb960ba",
   "metadata": {},
   "outputs": [
    {
     "name": "stdout",
     "output_type": "stream",
     "text": [
      "Bagging(80-20)- NB 0.8354430379746836\n",
      "Bagging(80-20)- MLP 0.8924050632911392\n",
      "Bagging(80-20)- DT 0.930379746835443\n",
      "Bagging(80-20)- RF 0.9177215189873418\n",
      "Bagging(80-20)- SVM 0.8354430379746836\n"
     ]
    }
   ],
   "source": [
    "x_train,x_test,y_train,y_test=train_test_split(X,y,test_size=0.2,random_state=43)\n",
    "for estimator in models:\n",
    "    bagging_clf=BaggingClassifier(estimator[1],n_estimators=15,max_features=3,max_samples=100,bootstrap=True,random_state=42)\n",
    "    bagging_clf.fit(x_train,y_train)\n",
    "    y_pred=bagging_clf.predict(x_test)\n",
    "    accuracy=metrics.accuracy_score(y_pred,y_test)\n",
    "    print(\"Bagging(80-20)-\",estimator[0],accuracy)"
   ]
  },
  {
   "cell_type": "code",
   "execution_count": 97,
   "id": "7f58b87e",
   "metadata": {},
   "outputs": [
    {
     "name": "stdout",
     "output_type": "stream",
     "text": [
      "\n",
      "PRECISION\n",
      "Bagging(80-20)- NB 0.8354430379746836\n",
      "Bagging(80-20)- MLP 0.8924050632911392\n",
      "Bagging(80-20)- DT 0.930379746835443\n",
      "Bagging(80-20)- RF 0.9177215189873418\n",
      "Bagging(80-20)- SVM 0.8354430379746836\n",
      "\n",
      "F1 SCORE\n",
      "Bagging(80-20)- NB 0.0\n",
      "Bagging(80-20)- MLP 0.5405405405405406\n",
      "Bagging(80-20)- DT 0.7441860465116279\n",
      "Bagging(80-20)- RF 0.6829268292682927\n",
      "Bagging(80-20)- SVM 0.0\n",
      "\n",
      "RECALL\n",
      "Bagging(80-20)- NB 0.8354430379746836\n",
      "Bagging(80-20)- MLP 0.8924050632911392\n",
      "Bagging(80-20)- DT 0.930379746835443\n",
      "Bagging(80-20)- RF 0.9177215189873418\n",
      "Bagging(80-20)- SVM 0.8354430379746836\n",
      "\n",
      "ROC\n",
      "Bagging(80-20)- NB 0.5\n",
      "Bagging(80-20)- MLP 0.6885198135198135\n",
      "Bagging(80-20)- DT 0.8039044289044289\n",
      "Bagging(80-20)- RF 0.7654428904428904\n",
      "Bagging(80-20)- SVM 0.5\n"
     ]
    }
   ],
   "source": [
    "print(\"\\nPRECISION\")\n",
    "for estimator in models:\n",
    "    bagging_clf=BaggingClassifier(estimator[1],n_estimators=15,max_features=3,max_samples=100,bootstrap=True,random_state=42)\n",
    "    bagging_clf.fit(x_train,y_train)\n",
    "    y_pred=bagging_clf.predict(x_test)\n",
    "    precision=metrics.precision_score(y_test,y_pred,average='micro')\n",
    "    print(\"Bagging(80-20)-\",estimator[0],precision)\n",
    "    \n",
    "print(\"\\nF1 SCORE\")\n",
    "for estimator in models:\n",
    "    bagging_clf=BaggingClassifier(estimator[1],n_estimators=15,max_features=3,max_samples=100,bootstrap=True,random_state=42)\n",
    "    bagging_clf.fit(x_train,y_train)\n",
    "    y_pred=bagging_clf.predict(x_test)\n",
    "    f1score=metrics.f1_score(y_test,y_pred)\n",
    "    print(\"Bagging(80-20)-\",estimator[0],f1score)\n",
    "    \n",
    "print(\"\\nRECALL\")\n",
    "for estimator in models:\n",
    "    bagging_clf=BaggingClassifier(estimator[1],n_estimators=15,max_features=3,max_samples=100,bootstrap=True,random_state=42)\n",
    "    bagging_clf.fit(x_train,y_train)\n",
    "    y_pred=bagging_clf.predict(x_test)\n",
    "    recall=metrics.recall_score(y_test,y_pred,average='micro')\n",
    "    print(\"Bagging(80-20)-\",estimator[0],recall)\n",
    "    \n",
    "print(\"\\nROC\")\n",
    "for estimator in models:\n",
    "    bagging_clf=BaggingClassifier(estimator[1],n_estimators=15,max_features=3,max_samples=100,bootstrap=True,random_state=42)\n",
    "    bagging_clf.fit(x_train,y_train)\n",
    "    y_pred=bagging_clf.predict(x_test)\n",
    "    fpr,tpr,_=roc_curve(y_test,y_pred)\n",
    "    rocc=auc(fpr,tpr)\n",
    "    print(\"Bagging(80-20)-\",estimator[0],rocc)\n",
    "    "
   ]
  },
  {
   "cell_type": "markdown",
   "id": "f5d2b4c8",
   "metadata": {},
   "source": [
    "# CNN "
   ]
  },
  {
   "cell_type": "code",
   "execution_count": 98,
   "id": "e0c216b7-54af-4505-9c9c-92dda260bb1e",
   "metadata": {},
   "outputs": [],
   "source": [
    "x=df.iloc[:,[1,2,5,8]]\n",
    "y=df.iloc[:,9]"
   ]
  },
  {
   "cell_type": "code",
   "execution_count": 99,
   "id": "5e434a43-eba9-4fde-9941-e42112e798b5",
   "metadata": {},
   "outputs": [
    {
     "data": {
      "text/html": [
       "<div>\n",
       "<style scoped>\n",
       "    .dataframe tbody tr th:only-of-type {\n",
       "        vertical-align: middle;\n",
       "    }\n",
       "\n",
       "    .dataframe tbody tr th {\n",
       "        vertical-align: top;\n",
       "    }\n",
       "\n",
       "    .dataframe thead th {\n",
       "        text-align: right;\n",
       "    }\n",
       "</style>\n",
       "<table border=\"1\" class=\"dataframe\">\n",
       "  <thead>\n",
       "    <tr style=\"text-align: right;\">\n",
       "      <th></th>\n",
       "      <th>AGE</th>\n",
       "      <th>SEX</th>\n",
       "      <th>DGS</th>\n",
       "      <th>PRK</th>\n",
       "    </tr>\n",
       "  </thead>\n",
       "  <tbody>\n",
       "    <tr>\n",
       "      <th>0</th>\n",
       "      <td>46</td>\n",
       "      <td>1</td>\n",
       "      <td>10</td>\n",
       "      <td>3</td>\n",
       "    </tr>\n",
       "    <tr>\n",
       "      <th>1</th>\n",
       "      <td>46</td>\n",
       "      <td>1</td>\n",
       "      <td>10</td>\n",
       "      <td>2</td>\n",
       "    </tr>\n",
       "    <tr>\n",
       "      <th>2</th>\n",
       "      <td>42</td>\n",
       "      <td>0</td>\n",
       "      <td>13</td>\n",
       "      <td>3</td>\n",
       "    </tr>\n",
       "    <tr>\n",
       "      <th>3</th>\n",
       "      <td>42</td>\n",
       "      <td>0</td>\n",
       "      <td>13</td>\n",
       "      <td>2</td>\n",
       "    </tr>\n",
       "    <tr>\n",
       "      <th>4</th>\n",
       "      <td>9</td>\n",
       "      <td>1</td>\n",
       "      <td>10</td>\n",
       "      <td>3</td>\n",
       "    </tr>\n",
       "    <tr>\n",
       "      <th>...</th>\n",
       "      <td>...</td>\n",
       "      <td>...</td>\n",
       "      <td>...</td>\n",
       "      <td>...</td>\n",
       "    </tr>\n",
       "    <tr>\n",
       "      <th>830</th>\n",
       "      <td>52</td>\n",
       "      <td>1</td>\n",
       "      <td>3</td>\n",
       "      <td>3</td>\n",
       "    </tr>\n",
       "    <tr>\n",
       "      <th>831</th>\n",
       "      <td>52</td>\n",
       "      <td>1</td>\n",
       "      <td>3</td>\n",
       "      <td>3</td>\n",
       "    </tr>\n",
       "    <tr>\n",
       "      <th>832</th>\n",
       "      <td>52</td>\n",
       "      <td>1</td>\n",
       "      <td>3</td>\n",
       "      <td>2</td>\n",
       "    </tr>\n",
       "    <tr>\n",
       "      <th>833</th>\n",
       "      <td>30</td>\n",
       "      <td>1</td>\n",
       "      <td>0</td>\n",
       "      <td>2</td>\n",
       "    </tr>\n",
       "    <tr>\n",
       "      <th>834</th>\n",
       "      <td>70</td>\n",
       "      <td>1</td>\n",
       "      <td>0</td>\n",
       "      <td>2</td>\n",
       "    </tr>\n",
       "  </tbody>\n",
       "</table>\n",
       "<p>789 rows × 4 columns</p>\n",
       "</div>"
      ],
      "text/plain": [
       "     AGE  SEX  DGS  PRK\n",
       "0     46    1   10    3\n",
       "1     46    1   10    2\n",
       "2     42    0   13    3\n",
       "3     42    0   13    2\n",
       "4      9    1   10    3\n",
       "..   ...  ...  ...  ...\n",
       "830   52    1    3    3\n",
       "831   52    1    3    3\n",
       "832   52    1    3    2\n",
       "833   30    1    0    2\n",
       "834   70    1    0    2\n",
       "\n",
       "[789 rows x 4 columns]"
      ]
     },
     "execution_count": 99,
     "metadata": {},
     "output_type": "execute_result"
    }
   ],
   "source": [
    "x"
   ]
  },
  {
   "cell_type": "code",
   "execution_count": 100,
   "id": "f29f3a15",
   "metadata": {},
   "outputs": [
    {
     "data": {
      "text/plain": [
       "0      0\n",
       "1      0\n",
       "2      0\n",
       "3      0\n",
       "4      0\n",
       "      ..\n",
       "830    1\n",
       "831    1\n",
       "832    1\n",
       "833    0\n",
       "834    0\n",
       "Name: LB, Length: 789, dtype: int64"
      ]
     },
     "execution_count": 100,
     "metadata": {},
     "output_type": "execute_result"
    }
   ],
   "source": [
    "y"
   ]
  },
  {
   "cell_type": "code",
   "execution_count": 101,
   "id": "f0ff5451",
   "metadata": {},
   "outputs": [
    {
     "name": "stdout",
     "output_type": "stream",
     "text": [
      "(789, 4)\n"
     ]
    },
    {
     "data": {
      "text/html": [
       "<div>\n",
       "<style scoped>\n",
       "    .dataframe tbody tr th:only-of-type {\n",
       "        vertical-align: middle;\n",
       "    }\n",
       "\n",
       "    .dataframe tbody tr th {\n",
       "        vertical-align: top;\n",
       "    }\n",
       "\n",
       "    .dataframe thead th {\n",
       "        text-align: right;\n",
       "    }\n",
       "</style>\n",
       "<table border=\"1\" class=\"dataframe\">\n",
       "  <thead>\n",
       "    <tr style=\"text-align: right;\">\n",
       "      <th></th>\n",
       "      <th>AGE</th>\n",
       "      <th>SEX</th>\n",
       "      <th>DGS</th>\n",
       "      <th>PRK</th>\n",
       "    </tr>\n",
       "  </thead>\n",
       "  <tbody>\n",
       "    <tr>\n",
       "      <th>0</th>\n",
       "      <td>46</td>\n",
       "      <td>1</td>\n",
       "      <td>10</td>\n",
       "      <td>3</td>\n",
       "    </tr>\n",
       "    <tr>\n",
       "      <th>1</th>\n",
       "      <td>46</td>\n",
       "      <td>1</td>\n",
       "      <td>10</td>\n",
       "      <td>2</td>\n",
       "    </tr>\n",
       "    <tr>\n",
       "      <th>2</th>\n",
       "      <td>42</td>\n",
       "      <td>0</td>\n",
       "      <td>13</td>\n",
       "      <td>3</td>\n",
       "    </tr>\n",
       "    <tr>\n",
       "      <th>3</th>\n",
       "      <td>42</td>\n",
       "      <td>0</td>\n",
       "      <td>13</td>\n",
       "      <td>2</td>\n",
       "    </tr>\n",
       "    <tr>\n",
       "      <th>4</th>\n",
       "      <td>9</td>\n",
       "      <td>1</td>\n",
       "      <td>10</td>\n",
       "      <td>3</td>\n",
       "    </tr>\n",
       "  </tbody>\n",
       "</table>\n",
       "</div>"
      ],
      "text/plain": [
       "   AGE  SEX  DGS  PRK\n",
       "0   46    1   10    3\n",
       "1   46    1   10    2\n",
       "2   42    0   13    3\n",
       "3   42    0   13    2\n",
       "4    9    1   10    3"
      ]
     },
     "execution_count": 101,
     "metadata": {},
     "output_type": "execute_result"
    }
   ],
   "source": [
    "xdf=pd.DataFrame(x)\n",
    "print(xdf.shape)\n",
    "xdf.head()"
   ]
  },
  {
   "cell_type": "code",
   "execution_count": 102,
   "id": "0afa5e44",
   "metadata": {},
   "outputs": [
    {
     "data": {
      "text/plain": [
       "(789,)"
      ]
     },
     "execution_count": 102,
     "metadata": {},
     "output_type": "execute_result"
    }
   ],
   "source": [
    "y.shape"
   ]
  },
  {
   "cell_type": "code",
   "execution_count": 103,
   "id": "7c0f1e05",
   "metadata": {},
   "outputs": [
    {
     "data": {
      "text/html": [
       "<div>\n",
       "<style scoped>\n",
       "    .dataframe tbody tr th:only-of-type {\n",
       "        vertical-align: middle;\n",
       "    }\n",
       "\n",
       "    .dataframe tbody tr th {\n",
       "        vertical-align: top;\n",
       "    }\n",
       "\n",
       "    .dataframe thead th {\n",
       "        text-align: right;\n",
       "    }\n",
       "</style>\n",
       "<table border=\"1\" class=\"dataframe\">\n",
       "  <thead>\n",
       "    <tr style=\"text-align: right;\">\n",
       "      <th></th>\n",
       "      <th>LB</th>\n",
       "    </tr>\n",
       "  </thead>\n",
       "  <tbody>\n",
       "    <tr>\n",
       "      <th>0</th>\n",
       "      <td>0</td>\n",
       "    </tr>\n",
       "    <tr>\n",
       "      <th>1</th>\n",
       "      <td>0</td>\n",
       "    </tr>\n",
       "    <tr>\n",
       "      <th>2</th>\n",
       "      <td>0</td>\n",
       "    </tr>\n",
       "    <tr>\n",
       "      <th>3</th>\n",
       "      <td>0</td>\n",
       "    </tr>\n",
       "    <tr>\n",
       "      <th>4</th>\n",
       "      <td>0</td>\n",
       "    </tr>\n",
       "  </tbody>\n",
       "</table>\n",
       "</div>"
      ],
      "text/plain": [
       "   LB\n",
       "0   0\n",
       "1   0\n",
       "2   0\n",
       "3   0\n",
       "4   0"
      ]
     },
     "execution_count": 103,
     "metadata": {},
     "output_type": "execute_result"
    }
   ],
   "source": [
    "ydf=pd.DataFrame(y)\n",
    "ydf.head(5)"
   ]
  },
  {
   "cell_type": "code",
   "execution_count": 104,
   "id": "394f8bb8",
   "metadata": {},
   "outputs": [],
   "source": [
    "import numpy as np\n",
    "import pandas as pd\n",
    "from keras.models import Sequential\n",
    "from keras.layers import Dense,Dropout,Flatten,Conv1D\n",
    "from keras.layers import MaxPooling1D,BatchNormalization,LeakyReLU\n",
    "from sklearn.model_selection import train_test_split\n",
    "from sklearn.preprocessing import StandardScaler"
   ]
  },
  {
   "cell_type": "code",
   "execution_count": 105,
   "id": "0cf18e5a",
   "metadata": {},
   "outputs": [],
   "source": [
    "import random\n",
    "import tensorflow as tf\n",
    "\n",
    "seed_value=42\n",
    "tf.random.set_seed(seed_value)\n",
    "np.random.seed(seed_value)"
   ]
  },
  {
   "cell_type": "code",
   "execution_count": 106,
   "id": "0a11b660",
   "metadata": {},
   "outputs": [],
   "source": [
    "scaler=StandardScaler()\n",
    "x=scaler.fit_transform(x)"
   ]
  },
  {
   "cell_type": "code",
   "execution_count": 107,
   "id": "a91e7bd7",
   "metadata": {},
   "outputs": [
    {
     "name": "stdout",
     "output_type": "stream",
     "text": [
      "4 1\n"
     ]
    }
   ],
   "source": [
    "print(x.shape[1],1)"
   ]
  },
  {
   "cell_type": "markdown",
   "id": "d9297d5f",
   "metadata": {},
   "source": [
    "# 50-50"
   ]
  },
  {
   "cell_type": "code",
   "execution_count": 110,
   "id": "e9232a44",
   "metadata": {},
   "outputs": [
    {
     "name": "stdout",
     "output_type": "stream",
     "text": [
      "Epoch 1/5\n",
      "\u001b[1m25/25\u001b[0m \u001b[32m━━━━━━━━━━━━━━━━━━━━\u001b[0m\u001b[37m\u001b[0m \u001b[1m4s\u001b[0m 34ms/step - accuracy: 0.1684 - loss: 0.7488 - val_accuracy: 0.1646 - val_loss: 0.7148\n",
      "Epoch 2/5\n",
      "\u001b[1m25/25\u001b[0m \u001b[32m━━━━━━━━━━━━━━━━━━━━\u001b[0m\u001b[37m\u001b[0m \u001b[1m0s\u001b[0m 9ms/step - accuracy: 0.2611 - loss: 0.7056 - val_accuracy: 0.8354 - val_loss: 0.6764\n",
      "Epoch 3/5\n",
      "\u001b[1m25/25\u001b[0m \u001b[32m━━━━━━━━━━━━━━━━━━━━\u001b[0m\u001b[37m\u001b[0m \u001b[1m0s\u001b[0m 11ms/step - accuracy: 0.8316 - loss: 0.6689 - val_accuracy: 0.8354 - val_loss: 0.6437\n",
      "Epoch 4/5\n",
      "\u001b[1m25/25\u001b[0m \u001b[32m━━━━━━━━━━━━━━━━━━━━\u001b[0m\u001b[37m\u001b[0m \u001b[1m0s\u001b[0m 9ms/step - accuracy: 0.8316 - loss: 0.6378 - val_accuracy: 0.8354 - val_loss: 0.6160\n",
      "Epoch 5/5\n",
      "\u001b[1m25/25\u001b[0m \u001b[32m━━━━━━━━━━━━━━━━━━━━\u001b[0m\u001b[37m\u001b[0m \u001b[1m0s\u001b[0m 10ms/step - accuracy: 0.8316 - loss: 0.6115 - val_accuracy: 0.8354 - val_loss: 0.5925\n",
      "\u001b[1m13/13\u001b[0m \u001b[32m━━━━━━━━━━━━━━━━━━━━\u001b[0m\u001b[37m\u001b[0m \u001b[1m0s\u001b[0m 4ms/step - accuracy: 0.8329 - loss: 0.5934 \n",
      "Test Loss: 0.5914942026138306\n",
      "Test Accuracy: 0.8354430198669434\n"
     ]
    }
   ],
   "source": [
    "x_train,x_test,y_train,y_test=train_test_split(x,y,test_size=0.5,random_state=0)\n",
    "model=Sequential()\n",
    "\n",
    "model.add(Conv1D(filters=5,kernel_size=4,activation='sigmoid',strides=1,input_shape=(x.shape[1],1)))\n",
    "model.add(BatchNormalization())\n",
    "model.add(LeakyReLU())\n",
    "model.add(Conv1D(filters=5,kernel_size=1,activation='sigmoid'))\n",
    "model.add(MaxPooling1D(pool_size=1))\n",
    "model.add(Dense(6,activation='softmax'))\n",
    "model.add(Dense(1,activation='sigmoid'))\n",
    "\n",
    "model.save_weights('model_weights.weights.h5')\n",
    "model.load_weights('model_weights.weights.h5')\n",
    "\n",
    "model.compile(loss='binary_crossentropy',optimizer='sgd',metrics=['accuracy'])\n",
    "history=model.fit(x_train,y_train,epochs=5,batch_size=16,validation_data=(x_test,y_test))\n",
    "loss,accuracy=model.evaluate(x_test,y_test)\n",
    "print(\"Test Loss:\",loss)\n",
    "print(\"Test Accuracy:\",accuracy)"
   ]
  },
  {
   "cell_type": "markdown",
   "id": "c952d7db",
   "metadata": {},
   "source": [
    "# 60-40"
   ]
  },
  {
   "cell_type": "code",
   "execution_count": 111,
   "id": "42fbc061",
   "metadata": {},
   "outputs": [
    {
     "name": "stdout",
     "output_type": "stream",
     "text": [
      "Epoch 1/5\n",
      "\u001b[1m30/30\u001b[0m \u001b[32m━━━━━━━━━━━━━━━━━━━━\u001b[0m\u001b[37m\u001b[0m \u001b[1m3s\u001b[0m 27ms/step - accuracy: 0.1298 - loss: 0.7485 - val_accuracy: 0.2025 - val_loss: 0.7235\n",
      "Epoch 2/5\n",
      "\u001b[1m30/30\u001b[0m \u001b[32m━━━━━━━━━━━━━━━━━━━━\u001b[0m\u001b[37m\u001b[0m \u001b[1m0s\u001b[0m 8ms/step - accuracy: 0.1298 - loss: 0.6867 - val_accuracy: 0.2025 - val_loss: 0.6792\n",
      "Epoch 3/5\n",
      "\u001b[1m30/30\u001b[0m \u001b[32m━━━━━━━━━━━━━━━━━━━━\u001b[0m\u001b[37m\u001b[0m \u001b[1m1s\u001b[0m 9ms/step - accuracy: 0.1298 - loss: 0.6354 - val_accuracy: 0.2025 - val_loss: 0.6433\n",
      "Epoch 4/5\n",
      "\u001b[1m30/30\u001b[0m \u001b[32m━━━━━━━━━━━━━━━━━━━━\u001b[0m\u001b[37m\u001b[0m \u001b[1m0s\u001b[0m 7ms/step - accuracy: 0.1298 - loss: 0.5927 - val_accuracy: 0.2025 - val_loss: 0.6138\n",
      "Epoch 5/5\n",
      "\u001b[1m30/30\u001b[0m \u001b[32m━━━━━━━━━━━━━━━━━━━━\u001b[0m\u001b[37m\u001b[0m \u001b[1m0s\u001b[0m 7ms/step - accuracy: 0.1298 - loss: 0.5570 - val_accuracy: 0.2025 - val_loss: 0.5897\n",
      "\u001b[1m10/10\u001b[0m \u001b[32m━━━━━━━━━━━━━━━━━━━━\u001b[0m\u001b[37m\u001b[0m \u001b[1m0s\u001b[0m 4ms/step - accuracy: 0.2118 - loss: 0.5933 \n",
      "Test Loss: 0.5895733833312988\n",
      "Test accuracy: 0.20253165066242218\n"
     ]
    }
   ],
   "source": [
    "x_train,x_test,y_train,y_test=train_test_split(x,y,test_size=0.4,random_state=42)\n",
    "model=Sequential()\n",
    "\n",
    "model.add(Conv1D(filters=5,kernel_size=4,activation='sigmoid',strides=1,input_shape=(x.shape[1],1)))\n",
    "model.add(BatchNormalization())\n",
    "model.add(LeakyReLU())\n",
    "\n",
    "model.add(Conv1D(filters=5,kernel_size=1,activation='sigmoid'))\n",
    "model.add(BatchNormalization())\n",
    "model.add(LeakyReLU())\n",
    "\n",
    "model.add(MaxPooling1D(pool_size=1))\n",
    "model.add(Flatten())\n",
    "\n",
    "model.add(Dense(6,activation='softmax'))\n",
    "model.add(Dense(1,activation='softmax'))\n",
    "\n",
    "model.save_weights('model_weights.weights.h5')\n",
    "model.load_weights('model_weights.weights.h5')\n",
    "\n",
    "model.compile(loss='binary_crossentropy',optimizer='sgd',metrics=['accuracy'])\n",
    "history=model.fit(x_train,y_train,epochs=5,batch_size=16,validation_data=(x_test,y_test))\n",
    "loss,accuracy=model.evaluate(x_test,y_test)\n",
    "print(\"Test Loss:\",loss)\n",
    "print(\"Test accuracy:\",accuracy)\n"
   ]
  },
  {
   "cell_type": "markdown",
   "id": "dfec97b8",
   "metadata": {},
   "source": [
    "# 70-30"
   ]
  },
  {
   "cell_type": "code",
   "execution_count": 112,
   "id": "beeba27e",
   "metadata": {},
   "outputs": [
    {
     "name": "stdout",
     "output_type": "stream",
     "text": [
      "Epoch 1/5\n",
      "\u001b[1m35/35\u001b[0m \u001b[32m━━━━━━━━━━━━━━━━━━━━\u001b[0m\u001b[37m\u001b[0m \u001b[1m2s\u001b[0m 16ms/step - accuracy: 0.1365 - loss: 0.6978 - val_accuracy: 0.1983 - val_loss: 0.6659\n",
      "Epoch 2/5\n",
      "\u001b[1m35/35\u001b[0m \u001b[32m━━━━━━━━━━━━━━━━━━━━\u001b[0m\u001b[37m\u001b[0m \u001b[1m0s\u001b[0m 6ms/step - accuracy: 0.1365 - loss: 0.6463 - val_accuracy: 0.1983 - val_loss: 0.6311\n",
      "Epoch 3/5\n",
      "\u001b[1m35/35\u001b[0m \u001b[32m━━━━━━━━━━━━━━━━━━━━\u001b[0m\u001b[37m\u001b[0m \u001b[1m0s\u001b[0m 6ms/step - accuracy: 0.1365 - loss: 0.6047 - val_accuracy: 0.1983 - val_loss: 0.6036\n",
      "Epoch 4/5\n",
      "\u001b[1m35/35\u001b[0m \u001b[32m━━━━━━━━━━━━━━━━━━━━\u001b[0m\u001b[37m\u001b[0m \u001b[1m0s\u001b[0m 6ms/step - accuracy: 0.1365 - loss: 0.5709 - val_accuracy: 0.1983 - val_loss: 0.5818\n",
      "Epoch 5/5\n",
      "\u001b[1m35/35\u001b[0m \u001b[32m━━━━━━━━━━━━━━━━━━━━\u001b[0m\u001b[37m\u001b[0m \u001b[1m0s\u001b[0m 6ms/step - accuracy: 0.1365 - loss: 0.5432 - val_accuracy: 0.1983 - val_loss: 0.5645\n",
      "\u001b[1m8/8\u001b[0m \u001b[32m━━━━━━━━━━━━━━━━━━━━\u001b[0m\u001b[37m\u001b[0m \u001b[1m0s\u001b[0m 3ms/step - accuracy: 0.2126 - loss: 0.5727 \n",
      "Test Loss: 0.5680847764015198\n",
      "Test accuracy: 0.19831223785877228\n"
     ]
    }
   ],
   "source": [
    "x_train,x_test,y_train,y_test=train_test_split(x,y,test_size=0.3,random_state=42)\n",
    "model=Sequential()\n",
    "\n",
    "model.add(Conv1D(filters=5,kernel_size=4,activation='sigmoid',strides=1,input_shape=(x.shape[1],1)))\n",
    "model.add(BatchNormalization())\n",
    "model.add(LeakyReLU())\n",
    "\n",
    "model.add(Conv1D(filters=5,kernel_size=1,activation='sigmoid'))\n",
    "model.add(BatchNormalization())\n",
    "model.add(LeakyReLU())\n",
    "\n",
    "model.add(MaxPooling1D(pool_size=1))\n",
    "model.add(Flatten())\n",
    "\n",
    "model.add(Dense(6,activation='softmax'))\n",
    "model.add(Dense(1,activation='softmax'))\n",
    "\n",
    "model.save_weights('model_weights.weights.h5')\n",
    "model.load_weights('model_weights.weights.h5')\n",
    "\n",
    "model.compile(loss='binary_crossentropy',optimizer='sgd',metrics=['accuracy'])\n",
    "history=model.fit(x_train,y_train,epochs=5,batch_size=16,validation_data=(x_test,y_test))\n",
    "loss,accuracy=model.evaluate(x_test,y_test)\n",
    "print(\"Test Loss:\",loss)\n",
    "print(\"Test accuracy:\",accuracy)\n"
   ]
  },
  {
   "cell_type": "markdown",
   "id": "7741672b",
   "metadata": {},
   "source": [
    "# 80-20"
   ]
  },
  {
   "cell_type": "code",
   "execution_count": 113,
   "id": "638c7054",
   "metadata": {},
   "outputs": [
    {
     "name": "stdout",
     "output_type": "stream",
     "text": [
      "Epoch 1/5\n",
      "\u001b[1m40/40\u001b[0m \u001b[32m━━━━━━━━━━━━━━━━━━━━\u001b[0m\u001b[37m\u001b[0m \u001b[1m2s\u001b[0m 14ms/step - accuracy: 0.1618 - loss: 0.6649 - val_accuracy: 0.2025 - val_loss: 0.6420\n",
      "Epoch 2/5\n",
      "\u001b[1m40/40\u001b[0m \u001b[32m━━━━━━━━━━━━━━━━━━━━\u001b[0m\u001b[37m\u001b[0m \u001b[1m0s\u001b[0m 5ms/step - accuracy: 0.1618 - loss: 0.6168 - val_accuracy: 0.2025 - val_loss: 0.6111\n",
      "Epoch 3/5\n",
      "\u001b[1m40/40\u001b[0m \u001b[32m━━━━━━━━━━━━━━━━━━━━\u001b[0m\u001b[37m\u001b[0m \u001b[1m0s\u001b[0m 5ms/step - accuracy: 0.1618 - loss: 0.5793 - val_accuracy: 0.2025 - val_loss: 0.5869\n",
      "Epoch 4/5\n",
      "\u001b[1m40/40\u001b[0m \u001b[32m━━━━━━━━━━━━━━━━━━━━\u001b[0m\u001b[37m\u001b[0m \u001b[1m0s\u001b[0m 6ms/step - accuracy: 0.1618 - loss: 0.5500 - val_accuracy: 0.2025 - val_loss: 0.5678\n",
      "Epoch 5/5\n",
      "\u001b[1m40/40\u001b[0m \u001b[32m━━━━━━━━━━━━━━━━━━━━\u001b[0m\u001b[37m\u001b[0m \u001b[1m0s\u001b[0m 5ms/step - accuracy: 0.1618 - loss: 0.5271 - val_accuracy: 0.2025 - val_loss: 0.5526\n",
      "\u001b[1m5/5\u001b[0m \u001b[32m━━━━━━━━━━━━━━━━━━━━\u001b[0m\u001b[37m\u001b[0m \u001b[1m0s\u001b[0m 4ms/step - accuracy: 0.2229 - loss: 0.5648 \n",
      "Test Loss: 0.5524309277534485\n",
      "Test accuracy: 0.20253165066242218\n"
     ]
    }
   ],
   "source": [
    "x_train,x_test,y_train,y_test=train_test_split(x,y,test_size=0.2,random_state=42)\n",
    "model=Sequential()\n",
    "\n",
    "model.add(Conv1D(filters=5,kernel_size=4,activation='sigmoid',strides=1,input_shape=(x.shape[1],1)))\n",
    "model.add(BatchNormalization())\n",
    "model.add(LeakyReLU())\n",
    "\n",
    "model.add(Conv1D(filters=5,kernel_size=1,activation='sigmoid'))\n",
    "model.add(BatchNormalization())\n",
    "model.add(LeakyReLU())\n",
    "\n",
    "model.add(MaxPooling1D(pool_size=1))\n",
    "model.add(Flatten())\n",
    "\n",
    "model.add(Dense(6,activation='softmax'))\n",
    "model.add(Dense(1,activation='softmax'))\n",
    "\n",
    "model.save_weights('model_weights.weights.h5')\n",
    "model.load_weights('model_weights.weights.h5')\n",
    "\n",
    "model.compile(loss='binary_crossentropy',optimizer='sgd',metrics=['accuracy'])\n",
    "history=model.fit(x_train,y_train,epochs=5,batch_size=16,validation_data=(x_test,y_test))\n",
    "loss,accuracy=model.evaluate(x_test,y_test)\n",
    "print(\"Test Loss:\",loss)\n",
    "print(\"Test accuracy:\",accuracy)\n"
   ]
  },
  {
   "cell_type": "code",
   "execution_count": 114,
   "id": "8775ef85",
   "metadata": {},
   "outputs": [
    {
     "data": {
      "image/png": "[encoded data removed]",
      "text/plain": [
       "<Figure size 400x400 with 1 Axes>"
      ]
     },
     "metadata": {},
     "output_type": "display_data"
    }
   ],
   "source": [
    "import matplotlib.pyplot as plt\n",
    "\n",
    "\n",
    "fold_ratios = ['50-50', '60-40', '70-30', '80-20']\n",
    "accuracies = [83.54,20.25,19.83,20.25]  \n",
    "\n",
    "\n",
    "plt.figure(figsize=(4,4))\n",
    "plt.bar(fold_ratios, accuracies, color=['blue', 'orange', 'green', 'red'])\n",
    "plt.xlabel('Fold Ratio')\n",
    "plt.ylabel('Accuracy (%)')\n",
    "plt.title('Accuracy for Different Fold Ratios in CNN(SECOND STAGE)')\n",
    "plt.ylim(0, 100) \n",
    "plt.grid(axis='y', linestyle='--', alpha=0.7)\n",
    "plt.tight_layout()\n",
    "\n",
    "\n",
    "for i in range(len(fold_ratios)):\n",
    "    plt.text(i, accuracies[i] + 1, f\"{accuracies[i]:.2f}%\", ha='center', va='bottom')\n",
    "\n",
    "plt.show()"
   ]
  }
 ],
 "metadata": {
  "kernelspec": {
   "display_name": "Python 3 (ipykernel)",
   "language": "python",
   "name": "python3"
  },
  "language_info": {
   "codemirror_mode": {
    "name": "ipython",
    "version": 3
   },
   "file_extension": ".py",
   "mimetype": "text/x-python",
   "name": "python",
   "nbconvert_exporter": "python",
   "pygments_lexer": "ipython3",
   "version": "3.11.3"
  }
 },
 "nbformat": 4,
 "nbformat_minor": 5
}
